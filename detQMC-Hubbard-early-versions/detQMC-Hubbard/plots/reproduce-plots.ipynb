{
 "cells": [
  {
   "cell_type": "code",
   "execution_count": 1,
   "metadata": {},
   "outputs": [
    {
     "data": {
      "text/plain": [
       "Text(0,0.5,'$\\\\log [ P(h) ] + \\\\log (Z/A)$')"
      ]
     },
     "execution_count": 1,
     "metadata": {},
     "output_type": "execute_result"
    },
    {
     "data": {
      "image/png": "[encoded data removed]",
      "text/plain": [
       "<matplotlib.figure.Figure at 0x10662dfd0>"
      ]
     },
     "metadata": {},
     "output_type": "display_data"
    }
   ],
   "source": [
    "%matplotlib inline\n",
    "import numpy as np\n",
    "import matplotlib.pyplot as plt\n",
    "import numpy.linalg as la\n",
    "import numpy.random as rd\n",
    "import copy\n",
    "import os\n",
    "import warnings\n",
    "cwd = os.getcwd()\n",
    "import seaborn as sns\n",
    "\n",
    "sns.set()\n",
    "\n",
    "# To reproduce a plot that was previously made, uncomment the lines below and enter the\n",
    "# simulation parameters\n",
    "\n",
    "NSITES = 4\n",
    "L = 8\n",
    "beta = 1.\n",
    "dt = 0.125\n",
    "t = 1.\n",
    "U = 4.\n",
    "mu = 0.\n",
    "totalMCSweeps = 2\n",
    "freq = 1\n",
    "\n",
    "mainDir = (str(NSITES) + \\\n",
    "             'sites_L=' + str(L) + \\\n",
    "             '_beta=' + str(beta) + \\\n",
    "             '_dt_' + str(dt) + '_t_' + \\\n",
    "             str(t) + '_U_'+ str(U) + '_mu_' + str(mu))\n",
    "\n",
    "data_to_reproduce = (mainDir + '/data-to-reproduce')\n",
    "\n",
    "# Load weights to plot\n",
    "\n",
    "weights = np.loadtxt(data_to_reproduce + '/weights_' + \\\n",
    "                          'totalMCSweeps_' + str(totalMCSweeps) + \\\n",
    "                          '_freq_' + str(freq) + '.txt')\n",
    "\n",
    "\n",
    "M = weights.size\n",
    "\n",
    "time = np.arange(M)/NSITES/L   #measured in sweeps\n",
    "\n",
    "sns.set_style(\"whitegrid\")\n",
    "from matplotlib import rcParams\n",
    "rcParams['font.family'] = 'sans-serif'\n",
    "rcParams['font.sans-serif'] = ['Arial']\n",
    "plt.scatter(time, np.log(weights), s = .5)\n",
    "plt.xlabel('MC sweep')\n",
    "plt.ylabel(r'$\\log [ P(h) ] + \\log (Z/A)$')\n",
    "#plt.savefig(mainDir + '/weightsVsMCstep' + str(totalMCSweeps) + 'sweeps' + '_freq_' + str(freq)\n",
    "#            + '.png', dpi = 600)"
   ]
  },
  {
   "cell_type": "code",
   "execution_count": null,
   "metadata": {},
   "outputs": [],
   "source": []
  }
 ],
 "metadata": {
  "kernelspec": {
   "display_name": "Python 3",
   "language": "python",
   "name": "python3"
  },
  "language_info": {
   "codemirror_mode": {
    "name": "ipython",
    "version": 3
   },
   "file_extension": ".py",
   "mimetype": "text/x-python",
   "name": "python",
   "nbconvert_exporter": "python",
   "pygments_lexer": "ipython3",
   "version": "3.6.4"
  }
 },
 "nbformat": 4,
 "nbformat_minor": 2
}
