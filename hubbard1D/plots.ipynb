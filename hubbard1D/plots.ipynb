{
 "cells": [
  {
   "cell_type": "code",
   "execution_count": 12,
   "metadata": {},
   "outputs": [],
   "source": [
    "import numpy as np\n",
    "import matplotlib.pyplot as plt\n",
    "import numpy.linalg as la\n",
    "import numpy.random as rd\n",
    "import copy\n",
    "import os\n",
    "import warnings\n",
    "cwd = os.getcwd()\n",
    "import seaborn as sns\n",
    "\n",
    "sns.set()"
   ]
  },
  {
   "cell_type": "code",
   "execution_count": 22,
   "metadata": {},
   "outputs": [],
   "source": [
    "NSITES = 100\n",
    "L = 5\n",
    "beta = .1\n",
    "dt = 0.02\n",
    "t = 1\n",
    "U = 5\n",
    "\n",
    "totalMCSteps = 100\n",
    "\n",
    "weights = np.loadtxt(\"test.txt\")\n",
    "\n",
    "M = weights.size\n",
    "\n",
    "time = np.arange(M)"
   ]
  },
  {
   "cell_type": "code",
   "execution_count": 31,
   "metadata": {},
   "outputs": [
    {
     "data": {
      "text/plain": [
       "Text(0,0.5,'$\\\\log [ P(h) ]$')"
      ]
     },
     "execution_count": 31,
     "metadata": {},
     "output_type": "execute_result"
    },
    {
     "data": {
      "image/png": "[encoded data removed]",
      "text/plain": [
       "<matplotlib.figure.Figure at 0x116257630>"
      ]
     },
     "metadata": {},
     "output_type": "display_data"
    }
   ],
   "source": [
    "sns.set_style(\"white\")\n",
    "plt.scatter(time, np.log(weights), s = 3)\n",
    "plt.xlabel('MC step')\n",
    "plt.ylabel(r'$\\log [ P(h) ]$')\n",
    "#plt.savefig('weightsVsMCstep' + str(NSITES)\n",
    "#            + 'sites_L=' + str(L) + '_beta=' +\n",
    "#            str(beta) + '_dt_' + str(dt) + '_t_'\n",
    "#            + str(t) + '_U_'+ str(U) + '_' + str(totalMCSteps) + 'steps' + '.png', dpi = 600)"
   ]
  },
  {
   "cell_type": "code",
   "execution_count": null,
   "metadata": {},
   "outputs": [],
   "source": []
  }
 ],
 "metadata": {
  "kernelspec": {
   "display_name": "Python 3",
   "language": "python",
   "name": "python3"
  },
  "language_info": {
   "codemirror_mode": {
    "name": "ipython",
    "version": 3
   },
   "file_extension": ".py",
   "mimetype": "text/x-python",
   "name": "python",
   "nbconvert_exporter": "python",
   "pygments_lexer": "ipython3",
   "version": "3.6.4"
  }
 },
 "nbformat": 4,
 "nbformat_minor": 2
}
