{
 "cells": [
  {
   "cell_type": "code",
   "execution_count": 190,
   "metadata": {},
   "outputs": [],
   "source": [
    "import numpy as np\n",
    "import matplotlib.pyplot as plt\n",
    "from matplotlib import rcParams\n",
    "rcParams['font.family'] = 'sans-serif'\n",
    "rcParams['font.sans-serif'] = ['Arial']\n",
    "import numpy.linalg as la\n",
    "import numpy.random as rd\n",
    "import copy\n",
    "import os\n",
    "import warnings\n",
    "cwd = os.getcwd()\n",
    "import seaborn as sns"
   ]
  },
  {
   "cell_type": "markdown",
   "metadata": {},
   "source": [
    "# Building the nanoribbon"
   ]
  },
  {
   "cell_type": "code",
   "execution_count": 327,
   "metadata": {},
   "outputs": [],
   "source": [
    "l = 12 # length (even or armChairL and armChairR are the opposite)\n",
    "w = 4 # width (must be even)\n",
    "N = l * w\n",
    "armChairL = np.arange(w) * l + 1\n",
    "armChairR = np.arange(2, w) * l\n",
    "zigZagUp = ( np.arange(int(l / 2)) + 1 ) * 2 - 1\n",
    "zigZagDown = N - ( np.arange(1, int(l / 2)) ) * 2 - 1\n",
    "K = np.zeros((N, N))\n",
    "for idx, aL in enumerate(armChairL):\n",
    "    if idx % 2 == 0:\n",
    "        K[aL - 1, aL - 1 + l] = 1\n",
    "        K[aL - 1 + l, aL - 1] = 1\n",
    "    else :\n",
    "        K[aL - 1, aL - 1 - l] = 1 \n",
    "        K[aL - 1 - l, aL - 1] = 1 \n",
    "    K[aL - 1, aL + l - 2] = 1     \n",
    "    K[aL - 1, aL] = 1\n",
    "    K[aL + l - 2, aL - 1] = 1     \n",
    "    K[aL, aL - 1] = 1\n",
    "    \n",
    "for idx, aR in enumerate(armChairR):\n",
    "    if idx % 2 == 0:\n",
    "        K[aR - 1 + l, aR - 1] = 1\n",
    "    else :\n",
    "        K[aR - 1 - l, aR - 1] = 1\n",
    "    K[aR - 1 - l + 1, aR - 1] = 1     \n",
    "    K[aR - 2, aR - 1] = 1\n",
    "for zUp in zigZagUp:\n",
    "    K[zUp, zUp - 1] = 1\n",
    "    K[zUp, zUp + 1] = 1\n",
    "for zDown in zigZagDown:\n",
    "    K[zDown, zDown - 1] = 1\n",
    "    K[zDown, zDown + 1] = 1\n",
    "\n",
    "# Tip of ArmChairR\n",
    "    \n",
    "K[l - 1, 0] = 1\n",
    "K[l - 1, l - 2] = 1\n",
    "K[N - 1, N - l] = 1\n",
    "K[N - 1, N - 2] = 1\n",
    "\n",
    "K[0, l - 1] = 1\n",
    "K[l - 2,l - 1] = 1\n",
    "K[N - l, N - 1] = 1\n",
    "K[N - 2, N - 1] = 1\n",
    "\n",
    "for i in range(1, N + 1):\n",
    "    if ( i in armChairL or i in armChairR \\\n",
    "        or i in zigZagUp or i in zigZagDown \\\n",
    "       or i == N or i == l):\n",
    "        continue\n",
    "    else:\n",
    "        K[i - 1, i - 2] = 1\n",
    "        K[i - 1, i] = 1\n",
    "        K[i - 2, i - 1] = 1\n",
    "        K[i, i - 1] = 1"
   ]
  },
  {
   "cell_type": "code",
   "execution_count": 328,
   "metadata": {},
   "outputs": [
    {
     "data": {
      "text/plain": [
       "206"
      ]
     },
     "execution_count": 328,
     "metadata": {},
     "output_type": "execute_result"
    }
   ],
   "source": [
    "( np.array(np.where(K != 0)) ).size"
   ]
  },
  {
   "cell_type": "code",
   "execution_count": 329,
   "metadata": {},
   "outputs": [
    {
     "data": {
      "text/plain": [
       "264"
      ]
     },
     "execution_count": 329,
     "metadata": {},
     "output_type": "execute_result"
    }
   ],
   "source": [
    "( 48 * 3 - 12 ) * 2"
   ]
  },
  {
   "cell_type": "code",
   "execution_count": 324,
   "metadata": {},
   "outputs": [
    {
     "data": {
      "text/plain": [
       "2304"
      ]
     },
     "execution_count": 324,
     "metadata": {},
     "output_type": "execute_result"
    }
   ],
   "source": [
    "48**2"
   ]
  },
  {
   "cell_type": "code",
   "execution_count": null,
   "metadata": {},
   "outputs": [],
   "source": []
  }
 ],
 "metadata": {
  "kernelspec": {
   "display_name": "Python 3",
   "language": "python",
   "name": "python3"
  },
  "language_info": {
   "codemirror_mode": {
    "name": "ipython",
    "version": 3
   },
   "file_extension": ".py",
   "mimetype": "text/x-python",
   "name": "python",
   "nbconvert_exporter": "python",
   "pygments_lexer": "ipython3",
   "version": "3.6.4"
  }
 },
 "nbformat": 4,
 "nbformat_minor": 2
}
