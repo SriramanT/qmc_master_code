{
 "cells": [
  {
   "cell_type": "code",
   "execution_count": 1,
   "metadata": {},
   "outputs": [],
   "source": [
    "import numpy as np\n",
    "import matplotlib.pyplot as plt\n",
    "import seaborn as sns\n",
    "sns.set()\n",
    "\n",
    "sns.set_style(\"whitegrid\")\n",
    "from matplotlib import rcParams\n",
    "rcParams['font.family'] = 'sans-serif'\n",
    "rcParams['font.sans-serif'] = ['Arial']\n",
    "sns.set_palette(\"GnBu_d\")\n",
    "\n",
    "# Set the parameters of the Hubbard model and temperature\n",
    "\n",
    "U = 4\n",
    "mu = np.arange(-6, 6, 0.001)\n",
    "rho = np.zeros(np.size(mu))\n",
    "\n",
    "t = np.array([0.25, 0.5, 0.75, 1., 1.5, 2.])\n",
    "\n",
    "fig = plt.figure(1)\n",
    "ax = fig.add_subplot(111)\n",
    "plt.xlabel(r'$\\mu$')\n",
    "plt.ylabel(r'$\\rho$')\n",
    "\n",
    "for T in t:\n",
    "    for r in range(len(rho)):\n",
    "        rho[r] = 2 * ( np.exp( (U/4 + mu[r]) / T ) \n",
    "                    + np.exp( (2*mu[r] - U/4) / T ) ) / ( np.exp(- U / 4 / T)\n",
    "                      + 2 * np.exp( (U/4 + mu[r]) / T ) + np.exp( (2*mu[r] - U/4) / T ) )\n",
    "    ax.plot(mu, rho, label = 'T = ' + str(T), linewidth = 0.5)\n",
    "\n",
    "    #plt.legend(bbox_to_anchor=(0., 1.02, 1., .102), loc=3,\n",
    "    #       ncol=2, mode=\"expand\", borderaxespad=0.)\n",
    "    lgd = ax.legend(bbox_to_anchor=(1.05, 1), loc=2, borderaxespad=0.)\n",
    "plt.savefig('rhoVsMu.png', dpi = 600, bbox_extra_artists=(lgd,), bbox_inches='tight')"
   ]
  },
  {
   "cell_type": "code",
   "execution_count": null,
   "metadata": {},
   "outputs": [],
   "source": []
  }
 ],
 "metadata": {
  "kernelspec": {
   "display_name": "Python 3",
   "language": "python",
   "name": "python3"
  },
  "language_info": {
   "codemirror_mode": {
    "name": "ipython",
    "version": 3
   },
   "file_extension": ".py",
   "mimetype": "text/x-python",
   "name": "python",
   "nbconvert_exporter": "python",
   "pygments_lexer": "ipython3",
   "version": "3.6.4"
  }
 },
 "nbformat": 4,
 "nbformat_minor": 2
}
