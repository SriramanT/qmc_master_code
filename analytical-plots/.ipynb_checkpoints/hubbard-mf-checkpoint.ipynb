{
 "cells": [
  {
   "cell_type": "code",
   "execution_count": 1,
   "metadata": {},
   "outputs": [],
   "source": [
    "import numpy as np\n",
    "import numpy.linalg as la\n",
    "import matplotlib.pyplot as plt\n",
    "from matplotlib import rcParams\n",
    "rcParams['font.family'] = 'sans-serif'\n",
    "rcParams['font.sans-serif'] = ['Arial']\n",
    "import copy\n",
    "import os\n",
    "import warnings\n",
    "cwd = os.getcwd()\n",
    "import seaborn as sns\n",
    "\n",
    "SAVEPLOTS = False"
   ]
  },
  {
   "cell_type": "markdown",
   "metadata": {},
   "source": [
    "# Define the hopping geometries"
   ]
  },
  {
   "cell_type": "code",
   "execution_count": 2,
   "metadata": {},
   "outputs": [],
   "source": [
    "def oneDimensionalChain(N):\n",
    "    HoppingMatrix = np.zeros((N, N))\n",
    "    ##  Set the elements of the hopping matrix that define PBC corresponding to the ends of the 1D chain\n",
    "    HoppingMatrix[0, 1] += 1.;\n",
    "    HoppingMatrix[0, N - 1] += 1.;\n",
    "    HoppingMatrix[N - 1, 0] += 1.;\n",
    "    HoppingMatrix[N - 1, N - 2] += 1.;\n",
    "    ##  Set the remaining ones\n",
    "    for i in range(1, N - 1):\n",
    "        HoppingMatrix[i, i - 1] += 1; HoppingMatrix[i, i + 1] += 1;\n",
    "    return HoppingMatrix\n",
    "\n",
    "def iRibbon(x, y, z, Nx, Ny):\n",
    "    return Nx * Ny * z + Nx * y + x\n",
    "\n",
    "def nanoribbon(N, Ny):\n",
    "    Nx = int(N / Ny / 2)\n",
    "    K = np.zeros((2 * Nx * Ny, 2 * Nx * Ny))\n",
    "    for x in range(Nx):\n",
    "        for y in range(Ny):\n",
    "            if y == (Ny - 1) :\n",
    "                if x == 0:\n",
    "                    K[iRibbon(x, y, 0, Nx, Ny), iRibbon(0, y, 1, Nx, Ny)] = 1\n",
    "                    K[iRibbon(x, y, 0, Nx, Ny), iRibbon(Nx - 1, y, 1, Nx, Ny)] = 1\n",
    "                    K[iRibbon(0, y, 1, Nx, Ny), iRibbon(x, y, 0, Nx, Ny)] = 1\n",
    "                    K[iRibbon(Nx - 1, y, 1, Nx, Ny), iRibbon(x, y, 0, Nx, Ny)] = 1\n",
    "                else:\n",
    "                    K[iRibbon(x, y, 0, Nx, Ny), iRibbon(x, y, 1, Nx, Ny)] = 1\n",
    "                    K[iRibbon(x, y, 0, Nx, Ny), iRibbon(x - 1, y, 1, Nx, Ny)] = 1\n",
    "                    K[iRibbon(x, y, 1, Nx, Ny), iRibbon(x, y, 0, Nx, Ny)] = 1\n",
    "                    K[iRibbon(x - 1, y, 1, Nx, Ny), iRibbon(x, y, 0, Nx, Ny)] = 1\n",
    "            else:\n",
    "                if x == 0:\n",
    "                    K[iRibbon(x, y, 0, Nx, Ny), iRibbon(0, y, 1, Nx, Ny)] = 1\n",
    "                    K[iRibbon(x, y, 0, Nx, Ny), iRibbon(Nx - 1, y, 1, Nx, Ny)] = 1\n",
    "                    K[iRibbon(x, y, 0, Nx, Ny), iRibbon(Nx - 1, y + 1, 1, Nx, Ny)] = 1\n",
    "                    K[iRibbon(0, y, 1, Nx, Ny), iRibbon(x, y, 0, Nx, Ny)] = 1\n",
    "                    K[iRibbon(Nx - 1, y, 1, Nx, Ny), iRibbon(x, y, 0, Nx, Ny)] = 1\n",
    "                    K[iRibbon(Nx - 1, y + 1, 1, Nx, Ny), iRibbon(x, y, 0, Nx, Ny)] = 1\n",
    "                else:\n",
    "                    K[iRibbon(x, y, 0, Nx, Ny), iRibbon(x, y, 1, Nx, Ny)] = 1\n",
    "                    K[iRibbon(x, y, 0, Nx, Ny), iRibbon(x - 1, y, 1, Nx, Ny)] = 1\n",
    "                    K[iRibbon(x, y, 0, Nx, Ny), iRibbon(x - 1, y + 1, 1, Nx, Ny)] = 1\n",
    "                    K[iRibbon(x, y, 1, Nx, Ny), iRibbon(x, y, 0, Nx, Ny)] = 1\n",
    "                    K[iRibbon(x - 1, y, 1, Nx, Ny), iRibbon(x, y, 0, Nx, Ny)] = 1\n",
    "                    K[iRibbon(x - 1, y + 1, 1, Nx, Ny), iRibbon(x, y, 0, Nx, Ny)] = 1\n",
    "    for x in range(Nx):\n",
    "        for y in range(Ny):\n",
    "            if y == 0 :\n",
    "                if x == Nx - 1:\n",
    "                    K[iRibbon(x, y, 1, Nx, Ny), iRibbon(0, y, 0, Nx, Ny)] = 1\n",
    "                    K[iRibbon(x, y, 1, Nx, Ny), iRibbon(Nx - 1, y, 0, Nx, Ny)] = 1\n",
    "                    K[iRibbon(0, y, 0, Nx, Ny), iRibbon(x, y, 1, Nx, Ny)] = 1\n",
    "                    K[iRibbon(Nx - 1, y, 0, Nx, Ny), iRibbon(x, y, 1, Nx, Ny)] = 1\n",
    "                else:\n",
    "                    K[iRibbon(x, y, 1, Nx, Ny), iRibbon(x, y, 0, Nx, Ny)] = 1\n",
    "                    K[iRibbon(x, y, 1, Nx, Ny), iRibbon(x + 1, y, 0, Nx, Ny)] = 1\n",
    "                    K[iRibbon(x, y, 0, Nx, Ny), iRibbon(x, y, 1, Nx, Ny)] = 1\n",
    "                    K[iRibbon(x + 1, y, 0, Nx, Ny), iRibbon(x, y, 1, Nx, Ny)] = 1\n",
    "            else:\n",
    "                if x == Nx - 1:\n",
    "                    K[iRibbon(x, y, 1, Nx, Ny), iRibbon(0, y, 0, Nx, Ny)] = 1\n",
    "                    K[iRibbon(x, y, 1, Nx, Ny), iRibbon(Nx - 1, y, 0, Nx, Ny)] = 1\n",
    "                    K[iRibbon(x, y, 1, Nx, Ny), iRibbon(0, y - 1, 0, Nx, Ny)] = 1\n",
    "                    K[iRibbon(0, y, 0, Nx, Ny), iRibbon(x, y, 1, Nx, Ny)] = 1\n",
    "                    K[iRibbon(Nx - 1, y, 0, Nx, Ny), iRibbon(x, y, 1, Nx, Ny)] = 1\n",
    "                    K[iRibbon(0, y - 1, 0, Nx, Ny), iRibbon(x, y, 1, Nx, Ny)] = 1\n",
    "                else:\n",
    "                    K[iRibbon(x, y, 1, Nx, Ny), iRibbon(x, y, 0, Nx, Ny)] = 1\n",
    "                    K[iRibbon(x, y, 1, Nx, Ny), iRibbon(x + 1, y, 0, Nx, Ny)] = 1\n",
    "                    K[iRibbon(x, y, 1, Nx, Ny), iRibbon(x + 1, y - 1, 0, Nx, Ny)] = 1\n",
    "                    K[iRibbon(x, y, 0, Nx, Ny), iRibbon(x, y, 1, Nx, Ny)] = 1\n",
    "                    K[iRibbon(x + 1, y, 0, Nx, Ny), iRibbon(x, y, 1, Nx, Ny)] = 1\n",
    "                    K[iRibbon(x + 1, y - 1, 0, Nx, Ny), iRibbon(x, y, 1, Nx, Ny)] = 1\n",
    "\n",
    "    return K"
   ]
  },
  {
   "cell_type": "code",
   "execution_count": 3,
   "metadata": {},
   "outputs": [
    {
     "name": "stderr",
     "output_type": "stream",
     "text": [
      "/Library/Frameworks/Python.framework/Versions/3.6/lib/python3.6/site-packages/ipykernel_launcher.py:39: ComplexWarning: Casting complex values to real discards the imaginary part\n"
     ]
    },
    {
     "data": {
      "image/png": "[encoded data removed]",
      "text/plain": [
       "<matplotlib.figure.Figure at 0x108083cc0>"
      ]
     },
     "metadata": {},
     "output_type": "display_data"
    }
   ],
   "source": [
    "sns.set()\n",
    "sns.set_style(\"white\")\n",
    "sns.set_palette(sns.diverging_palette(220, 20, n=6))\n",
    "Us = np.array([2., 4., 4.2, 4.4, 4.5, 6.])\n",
    "\n",
    "fig = plt.figure(0)\n",
    "ax = fig.add_subplot(111)\n",
    "plt.xlabel(r'm')\n",
    "plt.ylabel(r'E')\n",
    "\n",
    "N = 1024\n",
    "filling = 2 # 2 : quarter filling\n",
    "Np = int(N / filling)\n",
    "t = 1\n",
    "\n",
    "K = oneDimensionalChain(N)\n",
    "\n",
    "#K = nanoribbon(N, 8)\n",
    "\n",
    "for idx, U in enumerate(Us):\n",
    "    \n",
    "    Nup = np.arange(Np+1)\n",
    "    Ndown = Np - Nup\n",
    "    k = 2 * np.pi / N * np.arange(-N / 2 + 1, N/2 + 1)\n",
    "\n",
    "    nUp = Nup / N\n",
    "    nDown = Ndown / N\n",
    "\n",
    "    #eUp = - 2 * t * np.cos(k)\n",
    "    #eDown = eUp\n",
    "    \n",
    "    eUp = la.eigvals(K)\n",
    "    eDown = eUp\n",
    "\n",
    "    E = np.zeros(Np+1)\n",
    "    m = np.zeros(Np+1)\n",
    "\n",
    "    for fill in range(Np + 1):\n",
    "        E[fill] = np.sum( np.sort(eUp)[:int(Nup[fill])] + U * nDown[fill] ) / N \\\n",
    "        + np.sum( np.sort(eDown)[:int(Ndown[fill])] + U * nUp[fill] ) / N \\\n",
    "        - U * nDown[fill] * nUp[fill]\n",
    "        m[fill] = (Nup[fill] - Ndown[fill]) / Np\n",
    "    \n",
    "    #plt.figure(idx + 1)\n",
    "    #plt.plot(m, E, label = '$\\quadU=$' + r'' + str(U), linewidth = 1)\n",
    "    #plt.legend(loc=2, bbox_to_anchor=(1.05, 1))\n",
    "    #plt.savefig('mfHubbard' + '.png', dpi = 600)\n",
    "    \n",
    "    ax.plot(m, E, label = '$\\quadU=$' + r'' + str(U), linewidth = 0.5)\n",
    "    lgd = ax.legend(bbox_to_anchor=(1.05, 1), loc=2, borderaxespad=0.)\n",
    "    plt.title(r'$t=$' + r'' + str(t) + r'$\\quadN=$' \\\n",
    "              + r'' + str(N) + r'$\\quad\\rho=$' + r'' + str(1/filling))\n",
    "    #plt.savefig('mfHubbard' + '.png', dpi = 600, bbox_extra_artists=(lgd,), bbox_inches='tight')\n",
    "\n",
    "if SAVEPLOTS == True:\n",
    "    plt.savefig('mfHubbard' + '.png', dpi = 600, bbox_extra_artists=(lgd,), bbox_inches='tight')"
   ]
  },
  {
   "cell_type": "code",
   "execution_count": 4,
   "metadata": {},
   "outputs": [
    {
     "name": "stderr",
     "output_type": "stream",
     "text": [
      "/Library/Frameworks/Python.framework/Versions/3.6/lib/python3.6/site-packages/ipykernel_launcher.py:31: ComplexWarning: Casting complex values to real discards the imaginary part\n"
     ]
    },
    {
     "data": {
      "image/png": "[encoded data removed]",
      "text/plain": [
       "<matplotlib.figure.Figure at 0x1134a2a20>"
      ]
     },
     "metadata": {},
     "output_type": "display_data"
    }
   ],
   "source": [
    "sns.set()\n",
    "sns.set_style(\"white\")\n",
    "sns.set_palette(sns.diverging_palette(220, 20, n=6))\n",
    "Us = np.array([2., 4., 4.2, 4.4, 4.5, 6.])\n",
    "\n",
    "f = plt.figure(figsize=(20,6))\n",
    "nCols = 2\n",
    "\n",
    "for idx, U in enumerate(Us):\n",
    "    N = 1024\n",
    "    filling = 2 # 2 : quarter filling\n",
    "    Np = int(N / filling)\n",
    "    t = 1\n",
    "    Nup = np.arange(Np+1)\n",
    "    Ndown = Np - Nup\n",
    "    #k = 2 * np.pi / N * np.arange(-N / 2 + 1, N/2 + 1)\n",
    "\n",
    "    nUp = Nup / N\n",
    "    nDown = Ndown / N\n",
    "    \n",
    "    #eUp = - 2 * t * np.cos(k)\n",
    "    #eDown = eUp\n",
    "    \n",
    "    eUp = la.eigvals(K)\n",
    "    eDown = eUp\n",
    "\n",
    "    E = np.zeros(Np+1)\n",
    "    m = np.zeros(Np+1)\n",
    "\n",
    "    for fill in range(Np + 1):\n",
    "        E[fill] = np.sum( np.sort(eUp)[:int(Nup[fill])] + U * nDown[fill] ) / N \\\n",
    "        + np.sum( np.sort(eDown)[:int(Ndown[fill])] + U * nUp[fill] ) / N \\\n",
    "        - U * nDown[fill] * nUp[fill]\n",
    "        m[fill] = (Nup[fill] - Ndown[fill]) / Np\n",
    "    \n",
    "    ax = f.add_subplot(Us.size/nCols, nCols, idx + 1)\n",
    "    ax.plot(m, E, label = '$\\quadU=$' + r'' + str(U), linewidth = 1)\n",
    "    lgd = ax.legend(bbox_to_anchor=(1, 1), loc=2, borderaxespad=0., prop={'size': 13})\n",
    "    if (idx + 1) > nCols:\n",
    "        ax.set_xlabel(r'm')\n",
    "    if (idx + nCols) % nCols == 0:\n",
    "        ax.set_ylabel(r'E')\n",
    "    ax.set_yticklabels([])\n",
    "    \n",
    "if SAVEPLOTS == True:\n",
    "    plt.savefig('mfHubbard_multiple' + '.png', dpi = 400, bbox_extra_artists=(lgd,), bbox_inches='tight')"
   ]
  },
  {
   "cell_type": "code",
   "execution_count": 545,
   "metadata": {},
   "outputs": [
    {
     "name": "stdout",
     "output_type": "stream",
     "text": [
      "3.54443292735\n",
      "1.63437732102\n",
      "0.942910533931\n",
      "1.04199358741\n",
      "1.25136174898\n",
      "0.423440175863\n",
      "1.18717745787\n",
      "1.10224357923\n",
      "0.672246692947\n",
      "0.639025385447\n",
      "1.12020489493\n",
      "1.06353299188\n",
      "0.511882030923\n",
      "0.427779869522\n",
      "1.1322983425\n",
      "0.0891347130792\n",
      "0.871838172596\n",
      "0.126712978783\n",
      "1.01439147242\n",
      "0.208081239251\n",
      "0.775131497009\n",
      "0.316388907368\n",
      "0.701461326738\n",
      "0.177214387528\n",
      "0.928136827776\n",
      "0.191161380907\n",
      "1.08930910897\n",
      "0.165291382318\n",
      "0.653885806008\n",
      "0.441390516661\n",
      "0.288988460523\n",
      "0.0623082396363\n",
      "0.812525714137\n",
      "0.0320507187662\n",
      "1.03073413532\n",
      "0.0896216626279\n",
      "0.709508638044\n",
      "0.119701817155\n",
      "0.834850517891\n",
      "0.119095721541\n",
      "0.910414288391\n",
      "0.0575554451331\n",
      "0.986891705931\n",
      "0.117903060751\n",
      "0.718179057126\n",
      "0.13610770483\n",
      "0.765825674766\n",
      "0.213379903867\n",
      "1.03334504185\n",
      "0.352272388732\n",
      "1.15824411635\n",
      "0.200403479753\n",
      "0.534957418631\n",
      "0.440124449448\n",
      "0.310840757755\n",
      "0.114678823387\n",
      "0.790226001547\n",
      "0.207650163624\n",
      "0.949222516873\n",
      "0.192130417337\n",
      "0.837153654632\n",
      "0.272419672577\n",
      "0.822446556446\n",
      "0.227314752625\n",
      "0.864030408887\n",
      "0.200036210167\n",
      "0.925879419924\n",
      "0.184663793005\n",
      "0.74472978872\n",
      "0.256443520073\n",
      "0.690726596507\n",
      "0.211659841032\n",
      "0.944003491549\n",
      "0.212684078609\n",
      "1.10328530281\n",
      "0.174718491402\n",
      "0.609840327938\n",
      "0.358947766265\n",
      "0.357298301693\n",
      "0.0621721281145\n",
      "0.874283158483\n",
      "0.040896777083\n",
      "1.04282839441\n",
      "0.0666464864354\n",
      "0.721162628778\n",
      "0.125590954339\n",
      "0.695793310876\n",
      "0.0368366843251\n",
      "0.871303398867\n",
      "0.1010309464\n",
      "1.05135184978\n",
      "0.0489654256276\n",
      "0.788542184865\n",
      "0.100421981898\n",
      "0.605104509725\n",
      "0.0288637251582\n",
      "0.712459697044\n",
      "0.0632362930965\n",
      "1.00155860415\n",
      "0.0443341707899\n",
      "0.797151125888\n",
      "0.0335564939741\n",
      "0.917819463897\n",
      "0.0155256122181\n",
      "0.821864010692\n",
      "0.0644598401678\n",
      "1.02596313126\n",
      "0.0392887672283\n",
      "0.802891109269\n",
      "0.0587404375375\n",
      "0.680548885088\n",
      "0.00661529563096\n",
      "0.761327396326\n",
      "0.0419814957071\n",
      "0.994917478064\n",
      "0.02796999529\n",
      "0.797296404915\n",
      "0.0316879770755\n",
      "0.759143506331\n",
      "0.00831369389581\n",
      "0.821088681808\n",
      "0.0129282095377\n",
      "0.86175348974\n",
      "0.00610943786967\n",
      "0.834082528908\n",
      "0.0185104152622\n",
      "0.747529706685\n",
      "0.00453923011734\n",
      "0.755906339319\n",
      "0.0250264752748\n",
      "0.945175952364\n",
      "0.0145659241636\n",
      "0.814506927575\n",
      "0.00566883893666\n",
      "0.809722540954\n",
      "0.0015185955733\n",
      "0.814231719692\n",
      "0.00560056021063\n",
      "0.840418674467\n",
      "0.0022522617989\n",
      "0.832412609205\n",
      "0.00645393679964\n",
      "0.774563501157\n",
      "0.00189489801029\n",
      "0.785983320114\n",
      "0.00945030137848\n",
      "0.889534453835\n",
      "0.00561913659463\n",
      "0.825274381343\n",
      "0.00230864980114\n",
      "0.791720491214\n",
      "0.00125058526647\n",
      "0.805461991612\n",
      "0.0027886817163\n",
      "0.844269034325\n",
      "0.00149653147647\n",
      "0.829424179691\n",
      "0.00257683656906\n",
      "0.788511401141\n",
      "0.00100974766811\n",
      "0.798091180727\n",
      "0.00343185800581\n",
      "0.854699554535\n",
      "0.00192936413571\n",
      "0.827753063794\n",
      "0.00156344433232\n",
      "0.793681256739\n",
      "0.000766969121426\n",
      "0.802071276315\n",
      "0.00217827333292\n",
      "0.843991506987\n",
      "0.00118597109574\n",
      "0.827853631532\n",
      "0.00142214784561\n",
      "0.795227232876\n",
      "0.000650117053595\n",
      "0.801970377463\n",
      "0.00188972740658\n",
      "0.842113723604\n",
      "0.00101325881694\n",
      "0.827306247531\n",
      "0.00116014516823\n",
      "0.797248297893\n",
      "0.000545844056063\n",
      "0.802946788426\n",
      "0.00153111620792\n",
      "0.838784505557\n",
      "0.000807968541784\n",
      "0.826887514642\n",
      "0.00100498523367\n",
      "0.798748668237\n",
      "0.000471278805941\n",
      "0.803572698127\n",
      "0.00129117238159\n",
      "0.83648208818\n",
      "0.000672589389638\n",
      "0.826448208505\n",
      "0.00087514829644\n",
      "0.800036148522\n",
      "0.000411335299615\n",
      "-1.58125550627\n"
     ]
    }
   ],
   "source": [
    "N = 16\n",
    "U = 4\n",
    "t = 1\n",
    "mu = 0\n",
    "beta = 1\n",
    "filling = 2\n",
    "Np = int(N / filling)\n",
    "Nup = np.arange(Np+1)\n",
    "Ndown = Np - Nup\n",
    "nIt = 200\n",
    "\n",
    "nUp = np.random.rand(N)\n",
    "nDown = np.random.rand(N)\n",
    "\n",
    "K = oneDimensionalChain(N)\n",
    "\n",
    "E = np.zeros(Np)\n",
    "\n",
    "#for mismatch in range(Np):\n",
    "\n",
    "mismatch = 6\n",
    "for it in range(nIt):\n",
    "\n",
    "    Hup = - t * K + np.eye(N) * ( U * nDown) #- U * np.dot(nUp, nDown) / 2 * np.eye(N)\n",
    "    Hdown = - t * K + np.eye(N) * ( U * nUp) #- U * np.dot(nUp, nDown) / 2 * np.eye(N)\n",
    "\n",
    "    eUp = la.eigh(Hup)\n",
    "    eDown = la.eigh(Hdown)\n",
    "    idcsUp = (np.argsort(eUp[0]))\n",
    "    idcsDown = (np.argsort(eDown[0]))\n",
    "\n",
    "    nUpNew = np.zeros(N)\n",
    "    nDownNew = np.zeros(N)\n",
    "\n",
    "    for alpha in range(Nup[mismatch]):\n",
    "        for i in range(N):\n",
    "            nUpNew[i] = (eUp[1][:, i][:alpha] ** 2).sum()\n",
    "    for alpha in range(Ndown[mismatch]):\n",
    "        for i in range(N):\n",
    "            nDownNew[i] = (eDown[1][:, i][:beta] ** 2).sum()\n",
    "\n",
    "    print(np.dot(nUpNew - nUp, nUpNew - nUp) )\n",
    "\n",
    "    nUp = nUpNew\n",
    "    nDown = nDownNew\n",
    "\n",
    "E[mismatch] = eUp[0][:Nup[mismatch]].sum() / N + eDown[0][:Ndown[mismatch]].sum() / N - U * np.dot(nUp, nDown)\n",
    "print(eUp[0][:Nup[mismatch]].sum() / N + eDown[0][:Ndown[mismatch]].sum() / N- U * np.dot(nUp, nDown) )"
   ]
  },
  {
   "cell_type": "code",
   "execution_count": 528,
   "metadata": {},
   "outputs": [
    {
     "data": {
      "text/plain": [
       "array([  2.42511837e-05,   5.51032959e-05,   1.29234272e-04])"
      ]
     },
     "execution_count": 528,
     "metadata": {},
     "output_type": "execute_result"
    }
   ],
   "source": [
    "eUp[1][:, 0][:3]"
   ]
  },
  {
   "cell_type": "code",
   "execution_count": 510,
   "metadata": {},
   "outputs": [
    {
     "data": {
      "text/plain": [
       "[<matplotlib.lines.Line2D at 0x105061828>]"
      ]
     },
     "execution_count": 510,
     "metadata": {},
     "output_type": "execute_result"
    },
    {
     "data": {
      "image/png": "[encoded data removed]",
      "text/plain": [
       "<matplotlib.figure.Figure at 0x11d0b3f60>"
      ]
     },
     "metadata": {},
     "output_type": "display_data"
    }
   ],
   "source": [
    "plt.plot(E)"
   ]
  },
  {
   "cell_type": "code",
   "execution_count": 519,
   "metadata": {},
   "outputs": [
    {
     "data": {
      "text/plain": [
       "1.0"
      ]
     },
     "execution_count": 519,
     "metadata": {},
     "output_type": "execute_result"
    }
   ],
   "source": [
    "np.dot(eUp[1][:, alpha], eUp[1][:, alpha] )"
   ]
  },
  {
   "cell_type": "code",
   "execution_count": 520,
   "metadata": {},
   "outputs": [
    {
     "data": {
      "text/plain": [
       "array([  0.00000000e+00,   1.32283779e-03,   4.33480592e-03,\n",
       "         6.98900814e-03,   7.63798169e-03,   5.91117222e-03,\n",
       "         2.83013452e-03,   3.89141062e-04,   3.08416743e-04,\n",
       "         2.64678138e-03,   5.75110112e-03,   7.60338340e-03,\n",
       "         7.09184480e-03,   4.51958442e-03,   1.47063398e-03,\n",
       "         4.88315079e-06,   1.18061436e-03,   4.14571912e-03,\n",
       "         6.87400242e-03,   7.67198980e-03,   6.06862646e-03,\n",
       "         3.01479724e-03,   4.78064615e-04,   2.37174442e-04,\n",
       "         2.46783482e-03,   5.58759831e-03,   7.55131812e-03,\n",
       "         7.18742893e-03,   4.70608025e-03,   1.62532162e-03,\n",
       "         1.95898826e-05,   1.04495537e-03,   3.95713399e-03,\n",
       "         6.75927689e-03,   7.69359942e-03,   6.21544027e-03,\n",
       "         3.20113078e-03,   5.75695816e-04,   1.74664423e-04,\n",
       "         2.29038312e-03,   5.41592666e-03,   7.49686281e-03,\n",
       "         7.27994038e-03,   4.88741184e-03,   1.78408939e-03,\n",
       "         4.38939940e-05,   9.16792863e-04,   3.76842360e-03,\n",
       "         6.63098390e-03,   7.70404939e-03,   6.36275879e-03,\n",
       "         3.39012834e-03,   6.81674880e-04,   1.21613833e-04,\n",
       "         2.11781417e-03,   5.24517792e-03,   7.43307916e-03,\n",
       "         7.35651800e-03,   5.06696228e-03,   1.94885898e-03,\n",
       "         7.80572377e-05,   7.94998046e-04,   3.57781815e-03,\n",
       "         6.49949075e-03,   7.71304770e-03,   6.49949075e-03,\n",
       "         3.57781815e-03,   7.94998046e-04,   7.80572377e-05,\n",
       "         1.94885898e-03,   5.06696228e-03,   7.35651800e-03,\n",
       "         7.43307916e-03,   5.24517792e-03,   2.11781417e-03,\n",
       "         1.21613833e-04,   6.81674880e-04,   3.39012834e-03,\n",
       "         6.36275879e-03,   7.70404939e-03,   6.63098390e-03,\n",
       "         3.76842360e-03,   9.16792863e-04,   4.38939940e-05,\n",
       "         1.78408939e-03,   4.88741184e-03,   7.27994038e-03,\n",
       "         7.49686281e-03,   5.41592666e-03,   2.29038312e-03,\n",
       "         1.74664423e-04,   5.75695816e-04,   3.20113078e-03,\n",
       "         6.21544027e-03,   7.69359942e-03,   6.75927689e-03,\n",
       "         3.95713399e-03,   1.04495537e-03,   1.95898826e-05,\n",
       "         1.62532162e-03,   4.70608025e-03,   7.18742893e-03,\n",
       "         7.55131812e-03,   5.58759831e-03,   2.46783482e-03,\n",
       "         2.37174442e-04,   4.78064615e-04,   3.01479724e-03,\n",
       "         6.06862646e-03,   7.67198980e-03,   6.87400242e-03,\n",
       "         4.14571912e-03,   1.18061436e-03,   4.88315079e-06,\n",
       "         1.47063398e-03,   4.51958442e-03,   7.09184480e-03,\n",
       "         7.60338340e-03,   5.75110112e-03,   2.64678138e-03,\n",
       "         3.08416743e-04,   3.89141062e-04,   2.83013452e-03,\n",
       "         5.91117222e-03,   7.63798169e-03,   6.98900814e-03,\n",
       "         4.33480592e-03,   1.32283779e-03,   1.18543720e-31,\n",
       "         1.32283779e-03,   4.33480592e-03,   6.98900814e-03,\n",
       "         7.63798169e-03,   5.91117222e-03,   2.83013452e-03,\n",
       "         3.89141062e-04,   3.08416743e-04,   2.64678138e-03,\n",
       "         5.75110112e-03,   7.60338340e-03,   7.09184480e-03,\n",
       "         4.51958442e-03,   1.47063398e-03,   4.88315079e-06,\n",
       "         1.18061436e-03,   4.14571912e-03,   6.87400242e-03,\n",
       "         7.67198980e-03,   6.06862646e-03,   3.01479724e-03,\n",
       "         4.78064615e-04,   2.37174442e-04,   2.46783482e-03,\n",
       "         5.58759831e-03,   7.55131812e-03,   7.18742893e-03,\n",
       "         4.70608025e-03,   1.62532162e-03,   1.95898826e-05,\n",
       "         1.04495537e-03,   3.95713399e-03,   6.75927689e-03,\n",
       "         7.69359942e-03,   6.21544027e-03,   3.20113078e-03,\n",
       "         5.75695816e-04,   1.74664423e-04,   2.29038312e-03,\n",
       "         5.41592666e-03,   7.49686281e-03,   7.27994038e-03,\n",
       "         4.88741184e-03,   1.78408939e-03,   4.38939940e-05,\n",
       "         9.16792863e-04,   3.76842360e-03,   6.63098390e-03,\n",
       "         7.70404939e-03,   6.36275879e-03,   3.39012834e-03,\n",
       "         6.81674880e-04,   1.21613833e-04,   2.11781417e-03,\n",
       "         5.24517792e-03,   7.43307916e-03,   7.35651800e-03,\n",
       "         5.06696228e-03,   1.94885898e-03,   7.80572377e-05,\n",
       "         7.94998046e-04,   3.57781815e-03,   6.49949075e-03,\n",
       "         7.71304770e-03,   6.49949075e-03,   3.57781815e-03,\n",
       "         7.94998046e-04,   7.80572377e-05,   1.94885898e-03,\n",
       "         5.06696228e-03,   7.35651800e-03,   7.43307916e-03,\n",
       "         5.24517792e-03,   2.11781417e-03,   1.21613833e-04,\n",
       "         6.81674880e-04,   3.39012834e-03,   6.36275879e-03,\n",
       "         7.70404939e-03,   6.63098390e-03,   3.76842360e-03,\n",
       "         9.16792863e-04,   4.38939940e-05,   1.78408939e-03,\n",
       "         4.88741184e-03,   7.27994038e-03,   7.49686281e-03,\n",
       "         5.41592666e-03,   2.29038312e-03,   1.74664423e-04,\n",
       "         5.75695816e-04,   3.20113078e-03,   6.21544027e-03,\n",
       "         7.69359942e-03,   6.75927689e-03,   3.95713399e-03,\n",
       "         1.04495537e-03,   1.95898826e-05,   1.62532162e-03,\n",
       "         4.70608025e-03,   7.18742893e-03,   7.55131812e-03,\n",
       "         5.58759831e-03,   2.46783482e-03,   2.37174442e-04,\n",
       "         4.78064615e-04,   3.01479724e-03,   6.06862646e-03,\n",
       "         7.67198980e-03,   6.87400242e-03,   4.14571912e-03,\n",
       "         1.18061436e-03,   4.88315079e-06,   1.47063398e-03,\n",
       "         4.51958442e-03,   7.09184480e-03,   7.60338340e-03,\n",
       "         5.75110112e-03,   2.64678138e-03,   3.08416743e-04,\n",
       "         3.89141062e-04,   2.83013452e-03,   5.91117222e-03,\n",
       "         7.63798169e-03,   6.98900814e-03,   4.33480592e-03,\n",
       "         1.32283779e-03])"
      ]
     },
     "execution_count": 520,
     "metadata": {},
     "output_type": "execute_result"
    }
   ],
   "source": [
    "eUp[1][:, alpha] ** 2"
   ]
  },
  {
   "cell_type": "code",
   "execution_count": 546,
   "metadata": {},
   "outputs": [
    {
     "data": {
      "text/plain": [
       "Text(0,0.5,'$\\\\left\\\\langle n_{i, \\\\uparrow} \\\\right\\\\rangle$')"
      ]
     },
     "execution_count": 546,
     "metadata": {},
     "output_type": "execute_result"
    },
    {
     "data": {
      "image/png": "[encoded data removed]",
      "text/plain": [
       "<matplotlib.figure.Figure at 0x11d78fb70>"
      ]
     },
     "metadata": {},
     "output_type": "display_data"
    }
   ],
   "source": [
    "plt.plot(nUp)\n",
    "plt.xlabel('i')\n",
    "plt.ylabel(r'$\\left\\langle n_{i, \\uparrow} \\right\\rangle$')"
   ]
  },
  {
   "cell_type": "code",
   "execution_count": 547,
   "metadata": {},
   "outputs": [
    {
     "data": {
      "text/plain": [
       "Text(0,0.5,'$\\\\left\\\\langle n_{i, \\\\downarrow} \\\\right\\\\rangle$')"
      ]
     },
     "execution_count": 547,
     "metadata": {},
     "output_type": "execute_result"
    },
    {
     "data": {
      "image/png": "[encoded data removed]",
      "text/plain": [
       "<matplotlib.figure.Figure at 0x11e42e0b8>"
      ]
     },
     "metadata": {},
     "output_type": "display_data"
    }
   ],
   "source": [
    "plt.plot(nDown)\n",
    "plt.xlabel('i')\n",
    "plt.ylabel(r'$\\left\\langle n_{i, \\downarrow} \\right\\rangle$')"
   ]
  },
  {
   "cell_type": "code",
   "execution_count": 548,
   "metadata": {},
   "outputs": [
    {
     "data": {
      "text/plain": [
       "6.0000000000000018"
      ]
     },
     "execution_count": 548,
     "metadata": {},
     "output_type": "execute_result"
    }
   ],
   "source": [
    "nUp.sum() + nDown.sum()"
   ]
  },
  {
   "cell_type": "code",
   "execution_count": 420,
   "metadata": {},
   "outputs": [
    {
     "data": {
      "text/plain": [
       "array([[-0.00879646, -1.        , -0.        , ..., -0.        ,\n",
       "        -0.        , -1.        ],\n",
       "       [-1.        , -0.00879646, -1.        , ..., -0.        ,\n",
       "        -0.        , -0.        ],\n",
       "       [-0.        , -1.        , -0.00879646, ..., -0.        ,\n",
       "        -0.        , -0.        ],\n",
       "       ..., \n",
       "       [-0.        , -0.        , -0.        , ..., -0.00879646,\n",
       "        -1.        , -0.        ],\n",
       "       [-0.        , -0.        , -0.        , ..., -1.        ,\n",
       "        -0.00879646, -1.        ],\n",
       "       [-1.        , -0.        , -0.        , ..., -0.        ,\n",
       "        -1.        , -0.00879646]])"
      ]
     },
     "execution_count": 420,
     "metadata": {},
     "output_type": "execute_result"
    }
   ],
   "source": [
    "- t * K - U * np.dot(nUp, nDown) / 2 * np.eye(N)"
   ]
  },
  {
   "cell_type": "code",
   "execution_count": 418,
   "metadata": {},
   "outputs": [
    {
     "data": {
      "text/plain": [
       "0.0087964574383925451"
      ]
     },
     "execution_count": 418,
     "metadata": {},
     "output_type": "execute_result"
    }
   ],
   "source": [
    "U * np.dot(nUp, nDown) / 2"
   ]
  },
  {
   "cell_type": "code",
   "execution_count": null,
   "metadata": {},
   "outputs": [],
   "source": []
  }
 ],
 "metadata": {
  "kernelspec": {
   "display_name": "Python 3",
   "language": "python",
   "name": "python3"
  },
  "language_info": {
   "codemirror_mode": {
    "name": "ipython",
    "version": 3
   },
   "file_extension": ".py",
   "mimetype": "text/x-python",
   "name": "python",
   "nbconvert_exporter": "python",
   "pygments_lexer": "ipython3",
   "version": "3.6.4"
  }
 },
 "nbformat": 4,
 "nbformat_minor": 2
}
