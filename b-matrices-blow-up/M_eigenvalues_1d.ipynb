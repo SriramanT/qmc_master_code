{
 "cells": [
  {
   "cell_type": "code",
   "execution_count": 1,
   "metadata": {},
   "outputs": [],
   "source": [
    "import numpy as np\n",
    "import matplotlib.pyplot as plt\n",
    "import numpy.linalg as la\n",
    "import numpy.random as rd\n",
    "import cmath as cm\n",
    "import copy\n",
    "import os\n",
    "import warnings\n",
    "cwd = os.getcwd()\n",
    "import seaborn as sns\n",
    "\n",
    "sns.set()"
   ]
  },
  {
   "cell_type": "code",
   "execution_count": 2,
   "metadata": {},
   "outputs": [],
   "source": [
    "conds = np.loadtxt(\"conds.txt\")"
   ]
  },
  {
   "cell_type": "code",
   "execution_count": 3,
   "metadata": {},
   "outputs": [
    {
     "data": {
      "text/plain": [
       "Text(0.5,0,'$l$')"
      ]
     },
     "execution_count": 3,
     "metadata": {},
     "output_type": "execute_result"
    },
    {
     "data": {
      "image/png": "[encoded data removed]",
      "text/plain": [
       "<matplotlib.figure.Figure at 0x112db8ef0>"
      ]
     },
     "metadata": {},
     "output_type": "display_data"
    }
   ],
   "source": [
    "sns.set_style(\"white\")\n",
    "from matplotlib import rcParams\n",
    "rcParams['font.family'] = 'sans-serif'\n",
    "rcParams['font.sans-serif'] = ['Arial']\n",
    "plt.plot(np.arange(conds.size) + 1, conds)\n",
    "plt.ylabel(r'$\\kappa(M_l)$')\n",
    "plt.xlabel(r'$l$')"
   ]
  },
  {
   "cell_type": "code",
   "execution_count": 4,
   "metadata": {},
   "outputs": [],
   "source": [
    "M = np.loadtxt(\"hubbMat.txt\")"
   ]
  },
  {
   "cell_type": "code",
   "execution_count": 5,
   "metadata": {},
   "outputs": [],
   "source": [
    "eigM = la.eigvals(M)"
   ]
  },
  {
   "cell_type": "code",
   "execution_count": 6,
   "metadata": {},
   "outputs": [],
   "source": [
    "eigsPolar = np.zeros((eigM.size, 2))"
   ]
  },
  {
   "cell_type": "code",
   "execution_count": 7,
   "metadata": {},
   "outputs": [],
   "source": [
    "for i in range(eigM.size):\n",
    "    eigsPolar[i, :] = cm.polar(eigM[i])"
   ]
  },
  {
   "cell_type": "code",
   "execution_count": 8,
   "metadata": {},
   "outputs": [
    {
     "data": {
      "text/plain": [
       "array([[ 1.14801885,  2.77447787],\n",
       "       [ 1.14801885, -2.77447787],\n",
       "       [ 1.39595429,  2.14322361],\n",
       "       [ 1.39595429, -2.14322361],\n",
       "       [ 1.76469429,  1.66922907],\n",
       "       [ 1.76469429, -1.66922907],\n",
       "       [ 2.15334383,  1.29424486],\n",
       "       [ 2.15334383, -1.29424486],\n",
       "       [ 2.50700929,  0.9724929 ],\n",
       "       [ 2.50700929, -0.9724929 ],\n",
       "       [ 2.79425112,  0.67960725],\n",
       "       [ 2.79425112, -0.67960725],\n",
       "       [ 2.99554618,  0.40250314],\n",
       "       [ 2.99554618, -0.40250314],\n",
       "       [ 3.09903824,  0.13335599],\n",
       "       [ 3.09903824, -0.13335599],\n",
       "       [ 0.50788391,  2.55098443],\n",
       "       [ 0.50788391, -2.55098443],\n",
       "       [ 0.83118797,  1.82048166],\n",
       "       [ 0.83118797, -1.82048166],\n",
       "       [ 1.22099096,  1.41074581],\n",
       "       [ 1.22099096, -1.41074581],\n",
       "       [ 1.59248174,  1.10363733],\n",
       "       [ 1.59248174, -1.10363733],\n",
       "       [ 1.91501746,  0.83675512],\n",
       "       [ 1.91501746, -0.83675512],\n",
       "       [ 0.28315104,  2.18513836],\n",
       "       [ 0.28315104, -2.18513836],\n",
       "       [ 0.65905398,  1.54974245],\n",
       "       [ 0.65905398, -1.54974245],\n",
       "       [ 1.04344961,  1.2377866 ],\n",
       "       [ 1.04344961, -1.2377866 ],\n",
       "       [ 2.17082266,  0.58868374],\n",
       "       [ 2.17082266, -0.58868374],\n",
       "       [ 1.39421933,  0.986884  ],\n",
       "       [ 1.39421933, -0.986884  ],\n",
       "       [ 2.34785359,  0.35015379],\n",
       "       [ 2.34785359, -0.35015379],\n",
       "       [ 2.43830759,  0.11625338],\n",
       "       [ 2.43830759, -0.11625338],\n",
       "       [ 1.69391803,  0.75694025],\n",
       "       [ 1.69391803, -0.75694025],\n",
       "       [ 1.92987532,  0.53632309],\n",
       "       [ 1.92987532, -0.53632309],\n",
       "       [ 2.09257107,  0.32032979],\n",
       "       [ 2.09257107, -0.32032979],\n",
       "       [ 2.17555311,  0.10655502],\n",
       "       [ 2.17555311, -0.10655502],\n",
       "       [ 0.40080871,  0.31200638],\n",
       "       [ 0.40080871, -0.31200638],\n",
       "       [ 0.59074749,  0.63491181],\n",
       "       [ 0.59074749, -0.63491181],\n",
       "       [ 0.83485344,  0.67911455],\n",
       "       [ 0.83485344, -0.67911455],\n",
       "       [ 1.07315475,  0.6142891 ],\n",
       "       [ 1.07315475, -0.6142891 ],\n",
       "       [ 1.28210925,  0.50343972],\n",
       "       [ 1.28210925, -0.50343972],\n",
       "       [ 1.44861485,  0.37039507],\n",
       "       [ 1.44861485, -0.37039507],\n",
       "       [ 1.62321213,  0.07587047],\n",
       "       [ 1.62321213, -0.07587047],\n",
       "       [ 1.5641236 ,  0.22592504],\n",
       "       [ 1.5641236 , -0.22592504]])"
      ]
     },
     "execution_count": 8,
     "metadata": {},
     "output_type": "execute_result"
    }
   ],
   "source": [
    "eigsPolar"
   ]
  },
  {
   "cell_type": "code",
   "execution_count": 9,
   "metadata": {},
   "outputs": [
    {
     "data": {
      "text/plain": [
       "Text(0.5,1,'U = 0')"
      ]
     },
     "execution_count": 9,
     "metadata": {},
     "output_type": "execute_result"
    },
    {
     "data": {
      "image/png": "[encoded data removed]",
      "text/plain": [
       "<matplotlib.figure.Figure at 0x1137d5320>"
      ]
     },
     "metadata": {},
     "output_type": "display_data"
    }
   ],
   "source": [
    "plt.scatter(eigsPolar[:, 0], eigsPolar[:, 1], s = 2)\n",
    "plt.xlabel(r'$Re(\\lambda)$')\n",
    "plt.ylabel(r'$Im(\\lambda)$')\n",
    "plt.title(\"U = 0\")"
   ]
  },
  {
   "cell_type": "code",
   "execution_count": 10,
   "metadata": {},
   "outputs": [
    {
     "data": {
      "text/plain": [
       "Text(0.5,1,'U = 4')"
      ]
     },
     "execution_count": 10,
     "metadata": {},
     "output_type": "execute_result"
    },
    {
     "data": {
      "image/png": "[encoded data removed]",
      "text/plain": [
       "<matplotlib.figure.Figure at 0x1152077b8>"
      ]
     },
     "metadata": {},
     "output_type": "display_data"
    }
   ],
   "source": [
    "plt.scatter(eigsPolar[:, 0], eigsPolar[:, 1], s = 2)\n",
    "plt.xlabel(r'$Re(\\lambda)$')\n",
    "plt.ylabel(r'$Im(\\lambda)$')\n",
    "plt.title(\"U = 4\")"
   ]
  },
  {
   "cell_type": "code",
   "execution_count": null,
   "metadata": {},
   "outputs": [],
   "source": []
  }
 ],
 "metadata": {
  "kernelspec": {
   "display_name": "Python 3",
   "language": "python",
   "name": "python3"
  },
  "language_info": {
   "codemirror_mode": {
    "name": "ipython",
    "version": 3
   },
   "file_extension": ".py",
   "mimetype": "text/x-python",
   "name": "python",
   "nbconvert_exporter": "python",
   "pygments_lexer": "ipython3",
   "version": "3.6.4"
  }
 },
 "nbformat": 4,
 "nbformat_minor": 2
}
