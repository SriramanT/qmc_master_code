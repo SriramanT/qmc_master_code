{
 "cells": [
  {
   "cell_type": "code",
   "execution_count": 2,
   "metadata": {},
   "outputs": [],
   "source": [
    "import numpy as np\n",
    "import matplotlib.pyplot as plt\n",
    "import numpy.linalg as la\n",
    "import numpy.random as rd\n",
    "import copy\n",
    "import os\n",
    "import warnings\n",
    "cwd = os.getcwd()\n",
    "import seaborn as sns\n",
    "\n",
    "sns.set()"
   ]
  },
  {
   "cell_type": "code",
   "execution_count": 21,
   "metadata": {},
   "outputs": [],
   "source": [
    "NSITES = 50\n",
    "dt = 0.1\n",
    "beta = 1\n",
    "L = 10\n",
    "t = 1\n",
    "U = 5\n",
    "\n",
    "totalMCSweeps = 10\n",
    "\n",
    "weightsNaive = np.loadtxt(\"test.txt\")\n",
    "\n",
    "weightsUpdate = np.loadtxt(\"test2.txt\")\n",
    "\n",
    "M = weightsNaive.size\n",
    "\n",
    "time = np.arange(M)/NSITES/L   #measured in sweeps\n",
    "\n",
    "directory = ('plots/' + str(NSITES) + \\\n",
    "             'sites_L=' + str(L) + \\\n",
    "             '_beta=' + str(beta) + \\\n",
    "             '_dt_' + str(dt) + '_t_' + \\\n",
    "             str(t) + '_U_'+ str(U))\n",
    "            \n",
    "if not os.path.exists(directory):\n",
    "    os.makedirs(directory)"
   ]
  },
  {
   "cell_type": "code",
   "execution_count": 22,
   "metadata": {},
   "outputs": [
    {
     "name": "stderr",
     "output_type": "stream",
     "text": [
      "/Library/Frameworks/Python.framework/Versions/3.6/lib/python3.6/site-packages/ipykernel_launcher.py:6: RuntimeWarning: invalid value encountered in log\n",
      "  \n"
     ]
    },
    {
     "data": {
      "image/png": "[encoded data removed]",
      "text/plain": [
       "<matplotlib.figure.Figure at 0x11a34d7f0>"
      ]
     },
     "metadata": {},
     "output_type": "display_data"
    }
   ],
   "source": [
    "sns.set_style(\"white\")\n",
    "from matplotlib import rcParams\n",
    "rcParams['font.family'] = 'sans-serif'\n",
    "rcParams['font.sans-serif'] = ['Verdana']\n",
    "plt.scatter(time, np.log(weightsNaive), s = 1, color = 'b')\n",
    "plt.scatter(time, np.log(weightsUpdate), s = 1, color = 'g')\n",
    "plt.xlabel('MC sweep')\n",
    "plt.ylabel(r'$\\log [ P(h) ]$')\n",
    "plt.savefig('plots/' + str(NSITES)\n",
    "            + 'sites_L=' + str(L) + '_beta=' +\n",
    "            str(beta) + '_dt_' + str(dt) + '_t_'\n",
    "            + str(t) + '_U_'+ str(U) + '/weightsVsMCstep' + str(totalMCSweeps) + 'sweeps'\n",
    "            + '.png', dpi = 600)"
   ]
  },
  {
   "cell_type": "code",
   "execution_count": null,
   "metadata": {},
   "outputs": [],
   "source": []
  }
 ],
 "metadata": {
  "kernelspec": {
   "display_name": "Python 3",
   "language": "python",
   "name": "python3"
  },
  "language_info": {
   "codemirror_mode": {
    "name": "ipython",
    "version": 3
   },
   "file_extension": ".py",
   "mimetype": "text/x-python",
   "name": "python",
   "nbconvert_exporter": "python",
   "pygments_lexer": "ipython3",
   "version": "3.6.4"
  }
 },
 "nbformat": 4,
 "nbformat_minor": 2
}
