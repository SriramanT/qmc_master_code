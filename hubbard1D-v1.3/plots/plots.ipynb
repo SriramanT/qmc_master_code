{
 "cells": [
  {
   "cell_type": "markdown",
   "metadata": {},
   "source": [
    "# Convergence of the Metropolis Sampling"
   ]
  },
  {
   "cell_type": "code",
   "execution_count": 36,
   "metadata": {},
   "outputs": [],
   "source": [
    "import numpy as np\n",
    "import matplotlib.pyplot as plt\n",
    "import numpy.linalg as la\n",
    "import numpy.random as rd\n",
    "import copy\n",
    "import os\n",
    "import warnings\n",
    "cwd = os.getcwd()\n",
    "import seaborn as sns\n",
    "\n",
    "sns.set()\n",
    "\n",
    "# Retrieve simulation parameters\n",
    "\n",
    "simulationParameters = np.loadtxt('simulationParameters.txt')\n",
    "\n",
    "NSITES = int(simulationParameters[0])\n",
    "dt = simulationParameters[1]\n",
    "beta = simulationParameters[2]\n",
    "L = int(simulationParameters[3])\n",
    "t = simulationParameters[4]\n",
    "U = simulationParameters[5]\n",
    "mu = simulationParameters[6]\n",
    "totalMCSweeps = int(simulationParameters[7])\n",
    "freq = int(simulationParameters[8])\n",
    "\n",
    "# Load weights to plot\n",
    "\n",
    "weights = np.loadtxt('weights.txt')\n",
    "\n",
    "M = weights.size\n",
    "\n",
    "time = np.arange(M)/NSITES/L   #measured in sweeps\n",
    "\n",
    "directory1 = (str(NSITES) + \\\n",
    "             'sites_L=' + str(L) + \\\n",
    "             '_beta=' + str(beta) + \\\n",
    "             '_dt_' + str(dt) + '_t_' + \\\n",
    "             str(t) + '_U_'+ str(U) + '_mu_' + str(mu))\n",
    "\n",
    "directory2 = (str(NSITES) + \\\n",
    "             'sites_L=' + str(L) + \\\n",
    "             '_beta=' + str(beta) + \\\n",
    "             '_dt_' + str(dt) + '_t_' + \\\n",
    "             str(t) + '_U_'+ str(U) + '_mu_' + str(mu) + '/data-to-reproduce')\n",
    "            \n",
    "if not os.path.exists(directory1):\n",
    "    os.makedirs(directory1)\n",
    "    \n",
    "if not os.path.exists(directory2):\n",
    "    os.makedirs(directory2)\n",
    "    \n",
    "np.savetxt(directory2 + '/weights_' + \\\n",
    "           'totalMCSweeps_' + str(totalMCSweeps) + \\\n",
    "           '_freq_' + str(freq) + '.txt', (weights))\n",
    "np.savetxt(directory2 + '/simulationParameters_' + \\\n",
    "           'totalMCSweeps_' + str(totalMCSweeps) + \\\n",
    "           '_freq_' + str(freq) + '.txt', (simulationParameters))"
   ]
  },
  {
   "cell_type": "code",
   "execution_count": 37,
   "metadata": {},
   "outputs": [
    {
     "data": {
      "text/plain": [
       "Text(0,0.5,'$\\\\log [ P(h) ] + \\\\log (Z/A)$')"
      ]
     },
     "execution_count": 37,
     "metadata": {},
     "output_type": "execute_result"
    },
    {
     "data": {
      "image/png": "[encoded data removed]",
      "text/plain": [
       "<matplotlib.figure.Figure at 0x1160a9748>"
      ]
     },
     "metadata": {},
     "output_type": "display_data"
    }
   ],
   "source": [
    "sns.set_style(\"whitegrid\")\n",
    "from matplotlib import rcParams\n",
    "rcParams['font.family'] = 'sans-serif'\n",
    "rcParams['font.sans-serif'] = ['Arial']\n",
    "plt.scatter(time, np.log(weights), s = 0.1)\n",
    "plt.xlabel('MC sweep')\n",
    "plt.ylabel(r'$\\log [ P(h) ] + \\log (Z/A)$')\n",
    "#plt.savefig(directory1 + '/weightsVsMCstep' + str(totalMCSweeps) + 'sweeps' + \\\n",
    "#            '_freq_' + str(freq) + '.png', dpi = 600)"
   ]
  },
  {
   "cell_type": "markdown",
   "metadata": {},
   "source": [
    "# Measuring electron density"
   ]
  },
  {
   "cell_type": "code",
   "execution_count": 31,
   "metadata": {},
   "outputs": [],
   "source": [
    "electronDensity = np.loadtxt('electronDensity.txt')\n",
    "np.savetxt(directory2 + '/electronDensity' + str(totalMCSweeps) + \\\n",
    "           '_freq_' + str(freq) + '.txt', (electronDensity))"
   ]
  },
  {
   "cell_type": "code",
   "execution_count": 38,
   "metadata": {},
   "outputs": [
    {
     "data": {
      "image/png": "[encoded data removed]",
      "text/plain": [
       "<matplotlib.figure.Figure at 0x11b7cec50>"
      ]
     },
     "metadata": {},
     "output_type": "display_data"
    }
   ],
   "source": [
    "sweep = np.arange(totalMCSweeps)\n",
    "plt.scatter(sweep, electronDensity, s = 2)\n",
    "plt.xlabel('MC sweep')\n",
    "plt.ylabel(r'$\\rho$')\n",
    "plt.savefig(directory1 + '/electronDensity' + str(totalMCSweeps) + 'sweeps' + \\\n",
    "            '_freq_' + str(freq) + '.png', dpi = 600)"
   ]
  },
  {
   "cell_type": "markdown",
   "metadata": {},
   "source": [
    "# Auto-correlation time"
   ]
  },
  {
   "cell_type": "code",
   "execution_count": null,
   "metadata": {},
   "outputs": [],
   "source": []
  }
 ],
 "metadata": {
  "kernelspec": {
   "display_name": "Python 3",
   "language": "python",
   "name": "python3"
  },
  "language_info": {
   "codemirror_mode": {
    "name": "ipython",
    "version": 3
   },
   "file_extension": ".py",
   "mimetype": "text/x-python",
   "name": "python",
   "nbconvert_exporter": "python",
   "pygments_lexer": "ipython3",
   "version": "3.6.4"
  }
 },
 "nbformat": 4,
 "nbformat_minor": 2
}
