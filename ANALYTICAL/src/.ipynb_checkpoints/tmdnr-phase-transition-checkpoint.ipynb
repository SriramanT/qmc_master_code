{
 "cells": [
  {
   "cell_type": "code",
   "execution_count": 3,
   "metadata": {},
   "outputs": [],
   "source": [
    "import numpy as np\n",
    "import os\n",
    "import copy\n",
    "import warnings\n",
    "\n",
    "import matplotlib.pyplot as plt\n",
    "from matplotlib import rcParams\n",
    "rcParams['font.family'] = 'sans-serif'\n",
    "rcParams['font.sans-serif'] = ['Arial']\n",
    "from mpl_toolkits.axes_grid1.inset_locator import inset_axes\n",
    "import seaborn as sns\n",
    "sns.set()\n",
    "sns.set_style(\"white\")\n",
    "sns.set_palette(sns.diverging_palette(220, 20, n=6))"
   ]
  },
  {
   "cell_type": "markdown",
   "metadata": {},
   "source": [
    "# Load data from local files or from hard drive?# "
   ]
  },
  {
   "cell_type": "code",
   "execution_count": 4,
   "metadata": {},
   "outputs": [],
   "source": [
    "localData = False"
   ]
  },
  {
   "cell_type": "code",
   "execution_count": 5,
   "metadata": {},
   "outputs": [],
   "source": [
    "nOrb = 3\n",
    "\n",
    "Nx = 512\n",
    "Ny = 16\n",
    "beta = 100\n",
    "\n",
    "initCond = 1\n",
    "\n",
    "Us = [10, 12, 13, 13.1, 13.2, 13.3, 13.4, 13.5,\\\n",
    "      14, 14.8, 15, 15.2, 15.4, 15.6, 15.8, 16, 17, 18, 19, 20]\n",
    "\n",
    "msBottom = np.zeros(len(Us))\n",
    "msTop = np.zeros(len(Us))\n",
    "\n",
    "for mId, U in enumerate(Us):\n",
    "    if localData == False:\n",
    "\n",
    "        ## LOAD FILES FROM HARD DRIVE (THEY ARE TOO BIG!). SET PATH BELOW.\n",
    "\n",
    "        ADATA = \"ADATA HD710\"\n",
    "        Flash = \"Francisco's Flash Drive\"\n",
    "\n",
    "        SAVEDIR = \"../../../../../../../Volumes/\" + ADATA + \"/MScData/MeanFieldTMDnanoribbon/\"\n",
    "        #SAVEDIR = \"../../../../../../../Volumes/\" + Flash + \"/MScData/MeanFieldTMDnanoribbon/\"\n",
    "\n",
    "        LOADSUBDIR = SAVEDIR + \"Nx=\" + str(Nx) +\\\n",
    "            \"_Ny=\" + str(Ny) + \"_U=\" + str(U) + \"_beta=\" + str(beta) + \"/\"\n",
    "\n",
    "    else:\n",
    "        SAVEDIR = \"../plots/MeanFieldTMDnanoribbon/\"\n",
    "        LOADSUBDIR = SAVEDIR + \"Nx=\" + str(Nx) +\\\n",
    "            \"_Ny=\" + str(Ny) + \"_U=\" + str(U) + \"_beta=\" + str(beta) + \"/\"\n",
    "            \n",
    "    nUp = np.loadtxt(LOADSUBDIR + \"nUp.txt\")\n",
    "    nDown = np.loadtxt(LOADSUBDIR + \"nDown.txt\")\n",
    "            \n",
    "    msBottom[mId] = nUp[0] - nDown[0] + nUp[1] - nDown[1] + nUp[2] - nDown[2]\n",
    "    msTop[mId] = nUp[-1] - nDown[-1] + nUp[-2] - nDown[-2] + nUp[-3] - nDown[-3]\n",
    "\n",
    "SAVESUBDIR = \"../plots/MeanFieldTMDnanoribbon/\" \n",
    "if not os.path.exists(SAVESUBDIR):\n",
    "    os.makedirs(SAVESUBDIR)   \n"
   ]
  },
  {
   "cell_type": "code",
   "execution_count": 7,
   "metadata": {},
   "outputs": [
    {
     "data": {
      "image/png": "[encoded data removed]",
      "text/plain": [
       "<matplotlib.figure.Figure at 0x116341d30>"
      ]
     },
     "metadata": {},
     "output_type": "display_data"
    }
   ],
   "source": [
    "plt.plot(Us, msBottom, linewidth = 1, marker = '^',\\\n",
    "         markeredgewidth = 5, markersize = 0.0001, label = 'bottom')\n",
    "plt.plot(Us, msTop, linewidth = 1, marker = 'o',\\\n",
    "         markeredgewidth = 5, markersize = 1, label = 'top')\n",
    "plt.plot(Us, msTop + msBottom, linewidth = 1, marker = 'x',\\\n",
    "         markeredgewidth = 10, markersize = 0.8, label = 'total')\n",
    "plt.xlabel(r'$U$')\n",
    "plt.ylabel(r'$\\left\\langle m \\right\\rangle_{edges}$')\n",
    "plt.legend()\n",
    "plt.savefig(SAVESUBDIR + \"edge-mag.png\", dpi = 600)"
   ]
  },
  {
   "cell_type": "code",
   "execution_count": null,
   "metadata": {},
   "outputs": [],
   "source": []
  }
 ],
 "metadata": {
  "kernelspec": {
   "display_name": "Python 3",
   "language": "python",
   "name": "python3"
  },
  "language_info": {
   "codemirror_mode": {
    "name": "ipython",
    "version": 3
   },
   "file_extension": ".py",
   "mimetype": "text/x-python",
   "name": "python",
   "nbconvert_exporter": "python",
   "pygments_lexer": "ipython3",
   "version": "3.6.4"
  }
 },
 "nbformat": 4,
 "nbformat_minor": 2
}
