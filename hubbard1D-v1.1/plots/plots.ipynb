{
 "cells": [
  {
   "cell_type": "code",
   "execution_count": 78,
   "metadata": {},
   "outputs": [],
   "source": [
    "import numpy as np\n",
    "import matplotlib.pyplot as plt\n",
    "import numpy.linalg as la\n",
    "import numpy.random as rd\n",
    "import copy\n",
    "import os\n",
    "import warnings\n",
    "cwd = os.getcwd()\n",
    "import seaborn as sns\n",
    "\n",
    "sns.set()"
   ]
  },
  {
   "cell_type": "code",
   "execution_count": 85,
   "metadata": {},
   "outputs": [],
   "source": [
    "# Retrieve simulation parameters\n",
    "\n",
    "simulationParameters = np.loadtxt(\"simulationParameters.txt\")\n",
    "\n",
    "NSITES = int(simulationParameters[0])\n",
    "dt = simulationParameters[1]\n",
    "beta = simulationParameters[2]\n",
    "L = int(simulationParameters[3])\n",
    "t = simulationParameters[4]\n",
    "U = simulationParameters[5]\n",
    "mu = simulationParameters[6]\n",
    "totalMCSweeps = int(simulationParameters[7])\n",
    "freq = int(simulationParameters[8])\n",
    "\n",
    "# Load weights to plot\n",
    "\n",
    "weightsNaive = np.loadtxt(\"weightsNaive.txt\")\n",
    "\n",
    "weightsUpdate = np.loadtxt(\"weightsUpdate.txt\")\n",
    "\n",
    "M = weightsNaive.size\n",
    "\n",
    "time = np.arange(M)/NSITES/L   #measured in sweeps\n",
    "\n",
    "directory1 = (str(NSITES) + \\\n",
    "             'sites_L=' + str(L) + \\\n",
    "             '_beta=' + str(beta) + \\\n",
    "             '_dt_' + str(dt) + '_t_' + \\\n",
    "             str(t) + '_U_'+ str(U) + '_mu_' + str(mu))\n",
    "\n",
    "directory2 = (str(NSITES) + \\\n",
    "             'sites_L=' + str(L) + \\\n",
    "             '_beta=' + str(beta) + \\\n",
    "             '_dt_' + str(dt) + '_t_' + \\\n",
    "             str(t) + '_U_'+ str(U) + '_mu_' + str(mu) + '/data-to-reproduce')\n",
    "            \n",
    "if not os.path.exists(directory1):\n",
    "    os.makedirs(directory1)\n",
    "    \n",
    "if not os.path.exists(directory2):\n",
    "    os.makedirs(directory2)\n",
    "    \n",
    "np.savetxt(directory2 + '/weightsNaive_' + \\\n",
    "           'totalMCSweeps_' + str(totalMCSweeps) + \\\n",
    "           '_freq_' + str(freq) + '.txt', (weightsNaive))\n",
    "np.savetxt(directory2 + '/weightsUpdate_' + \\\n",
    "           'totalMCSweeps_' + str(totalMCSweeps) + \\\n",
    "           '_freq_' + str(freq) + '.txt', (weightsUpdate))\n",
    "np.savetxt(directory2 + '/simulationParameters_' + \\\n",
    "           'totalMCSweeps_' + str(totalMCSweeps) + \\\n",
    "           '_freq_' + str(freq) + '.txt', (simulationParameters))"
   ]
  },
  {
   "cell_type": "code",
   "execution_count": 86,
   "metadata": {},
   "outputs": [
    {
     "data": {
      "image/png": "[encoded data removed]",
      "text/plain": [
       "<matplotlib.figure.Figure at 0x105acb470>"
      ]
     },
     "metadata": {},
     "output_type": "display_data"
    }
   ],
   "source": [
    "sns.set_style(\"whitegrid\")\n",
    "from matplotlib import rcParams\n",
    "rcParams['font.family'] = 'sans-serif'\n",
    "rcParams['font.sans-serif'] = ['Verdana']\n",
    "plt.scatter(time, np.log(weightsNaive), s = .5)\n",
    "plt.scatter(time, np.log(weightsUpdate), s =.5)\n",
    "plt.xlabel('MC sweep')\n",
    "plt.ylabel(r'$\\log [ P(h) ] + \\log (Z/A)$')\n",
    "plt.savefig(directory1 + '/weightsVsMCstep' + str(totalMCSweeps) + 'sweeps' + \\\n",
    "            '_freq_' + str(freq) + '.png', dpi = 600)"
   ]
  },
  {
   "cell_type": "code",
   "execution_count": null,
   "metadata": {},
   "outputs": [],
   "source": []
  }
 ],
 "metadata": {
  "kernelspec": {
   "display_name": "Python 3",
   "language": "python",
   "name": "python3"
  },
  "language_info": {
   "codemirror_mode": {
    "name": "ipython",
    "version": 3
   },
   "file_extension": ".py",
   "mimetype": "text/x-python",
   "name": "python",
   "nbconvert_exporter": "python",
   "pygments_lexer": "ipython3",
   "version": "3.6.4"
  }
 },
 "nbformat": 4,
 "nbformat_minor": 2
}
