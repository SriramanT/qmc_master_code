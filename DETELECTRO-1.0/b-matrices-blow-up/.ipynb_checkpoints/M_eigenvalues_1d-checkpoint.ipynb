{
 "cells": [
  {
   "cell_type": "code",
   "execution_count": 1,
   "metadata": {},
   "outputs": [],
   "source": [
    "import numpy as np\n",
    "import matplotlib.pyplot as plt\n",
    "import numpy.linalg as la\n",
    "import numpy.random as rd\n",
    "import cmath as cm\n",
    "import copy\n",
    "import os\n",
    "import warnings\n",
    "cwd = os.getcwd()\n",
    "import seaborn as sns\n",
    "sns.set_palette(\"Blues_r\")\n",
    "sns.set_style(\"white\")\n",
    "from matplotlib import rcParams\n",
    "rcParams['font.family'] = 'sans-serif'\n",
    "rcParams['font.sans-serif'] = ['Arial']"
   ]
  },
  {
   "cell_type": "code",
   "execution_count": 3,
   "metadata": {},
   "outputs": [],
   "source": [
    "conds = np.loadtxt(\"conds.txt\")\n",
    "\n",
    "fit = np.polyfit(np.arange(16), np.log(conds), 1, cov=True)\n",
    "fit_fn = np.poly1d(fit[0]) \n",
    "sig = fit[1][1, 1]\n",
    "err = abs( ( np.log(conds) - fit_fn( np.arange(conds.size)  ) )  / np.sqrt(sig) )"
   ]
  },
  {
   "cell_type": "code",
   "execution_count": 7,
   "metadata": {},
   "outputs": [
    {
     "ename": "SyntaxError",
     "evalue": "EOL while scanning string literal (<ipython-input-7-5a50d3dfc16f>, line 10)",
     "output_type": "error",
     "traceback": [
      "\u001b[0;36m  File \u001b[0;32m\"<ipython-input-7-5a50d3dfc16f>\"\u001b[0;36m, line \u001b[0;32m10\u001b[0m\n\u001b[0;31m    plt.plot(label=r'$\\beta = 2 \\quad U = 4 \\quad \\mu = 0 \\quad \\Delta \\tau = 1 / 8 $, )\u001b[0m\n\u001b[0m                                                                                        ^\u001b[0m\n\u001b[0;31mSyntaxError\u001b[0m\u001b[0;31m:\u001b[0m EOL while scanning string literal\n"
     ]
    }
   ],
   "source": [
    "sns.set_style(\"white\")\n",
    "from matplotlib import rcParams\n",
    "rcParams['font.family'] = 'sans-serif'\n",
    "rcParams['font.sans-serif'] = ['Arial']\n",
    "plt.plot(np.arange(conds.size), np.log(conds),\\\n",
    "         linewidth = 0, marker = 'o', markersize = 1, markeredgewidth = 3, label = 'Exponentially growing condition number')\n",
    "plt.errorbar(np.arange(conds.size), np.log(conds),yerr=err, linewidth = 0, elinewidth =1, barsabove=True)\n",
    "plt.plot(np.arange(conds.size), fit_fn(np.arange(conds.size)),\\\n",
    "         linewidth = 1, label =r'Linear fit: $\\log (\\kappa[M_l]) = $' + f'{fit[0][0]:.1f}'\\\n",
    "         + r'$l +$' + f'{fit[0][1]:.1f}')\n",
    "plt.ylabel(r'$ \\log (\\kappa[M_l])$')\n",
    "plt.xlabel(r'Imaginary-time slice $l$')\n",
    "plt.plot([], [], label=r'$\\beta = 2 \\quad U = 4 \\quad \\mu = 0 \\quad \\Delta \\tau = 1 / 8 $$, linewidth = 0)\n",
    "plt.legend(loc=2, fontsize=12)\n",
    "plt.savefig(\"conditionNumberNaive.png\", dpi = 600)"
   ]
  },
  {
   "cell_type": "code",
   "execution_count": 23,
   "metadata": {},
   "outputs": [
    {
     "data": {
      "text/plain": [
       "array([  1.46273465,   2.5718361 ,   3.68093755,   4.790039  ,\n",
       "         5.89914044,   7.00824189,   8.11734334,   9.22644479,\n",
       "        10.33554624,  11.44464769,  12.55374913,  13.66285058,\n",
       "        14.77195203,  15.88105348,  16.99015493,  18.09925638])"
      ]
     },
     "execution_count": 23,
     "metadata": {},
     "output_type": "execute_result"
    }
   ],
   "source": [
    "fit_fn(np.arange(conds.size))"
   ]
  },
  {
   "cell_type": "code",
   "execution_count": 54,
   "metadata": {},
   "outputs": [
    {
     "data": {
      "text/plain": [
       "array([ 0.64949577,  2.06326616,  0.35453238,  0.21330673,  1.45544552,\n",
       "        0.21771262,  0.47692868,  1.59945314,  0.24826928,  2.52658901,\n",
       "        3.51333688,  2.22494647,  0.68737357,  0.68001465,  2.15755051,\n",
       "        3.67620532])"
      ]
     },
     "execution_count": 54,
     "metadata": {},
     "output_type": "execute_result"
    }
   ],
   "source": [
    "sig = fit[1][1, 1]\n",
    "\n",
    "err = abs( ( np.log(conds) - fit_fn( np.arange(conds.size)  ) )  / np.sqrt(sig) )\n",
    "err"
   ]
  },
  {
   "cell_type": "code",
   "execution_count": 45,
   "metadata": {},
   "outputs": [
    {
     "data": {
      "text/plain": [
       "0.13330386605919003"
      ]
     },
     "execution_count": 45,
     "metadata": {},
     "output_type": "execute_result"
    }
   ],
   "source": [
    "sig"
   ]
  },
  {
   "cell_type": "code",
   "execution_count": 21,
   "metadata": {},
   "outputs": [],
   "source": [
    "M = np.loadtxt(\"hubbMat.txt\")\n",
    "eigM = la.eigvals(M)\n",
    "eigsPolar = np.zeros((eigM.size, 2))\n",
    "for i in range(eigM.size):\n",
    "    eigsPolar[i, :] = cm.polar(eigM[i])"
   ]
  },
  {
   "cell_type": "code",
   "execution_count": 11,
   "metadata": {},
   "outputs": [
    {
     "data": {
      "text/plain": [
       "Text(0.5,1,'Eigenvalues of the 1D Hubbard Matrix at U = 0')"
      ]
     },
     "execution_count": 11,
     "metadata": {},
     "output_type": "execute_result"
    },
    {
     "data": {
      "image/png": "[encoded data removed]",
      "text/plain": [
       "<matplotlib.figure.Figure at 0x114b3aac8>"
      ]
     },
     "metadata": {},
     "output_type": "display_data"
    }
   ],
   "source": [
    "plt.scatter(eigsPolar[:, 0], eigsPolar[:, 1], s = 2)\n",
    "plt.xlabel(r'$Re(\\lambda)$')\n",
    "plt.ylabel(r'$Im(\\lambda)$')\n",
    "plt.title(\"Eigenvalues of the 1D Hubbard Matrix\")"
   ]
  },
  {
   "cell_type": "code",
   "execution_count": 12,
   "metadata": {},
   "outputs": [
    {
     "data": {
      "text/plain": [
       "Text(0.5,1,'Eigenvalues of the 1D Hubbard Matrix at U = 4')"
      ]
     },
     "execution_count": 12,
     "metadata": {},
     "output_type": "execute_result"
    },
    {
     "data": {
      "image/png": "[encoded data removed]",
      "text/plain": [
       "<matplotlib.figure.Figure at 0x113878320>"
      ]
     },
     "metadata": {},
     "output_type": "display_data"
    }
   ],
   "source": [
    "plt.scatter(eigsPolar[:, 0], eigsPolar[:, 1], s = 2)\n",
    "plt.xlabel(r'$Re(\\lambda)$')\n",
    "plt.ylabel(r'$Im(\\lambda)$')\n",
    "plt.title(\"Eigenvalues of the 1D Hubbard Matrix at U = 4\")"
   ]
  },
  {
   "cell_type": "code",
   "execution_count": null,
   "metadata": {},
   "outputs": [],
   "source": []
  }
 ],
 "metadata": {
  "kernelspec": {
   "display_name": "Python 3",
   "language": "python",
   "name": "python3"
  },
  "language_info": {
   "codemirror_mode": {
    "name": "ipython",
    "version": 3
   },
   "file_extension": ".py",
   "mimetype": "text/x-python",
   "name": "python",
   "nbconvert_exporter": "python",
   "pygments_lexer": "ipython3",
   "version": "3.6.4"
  }
 },
 "nbformat": 4,
 "nbformat_minor": 2
}
