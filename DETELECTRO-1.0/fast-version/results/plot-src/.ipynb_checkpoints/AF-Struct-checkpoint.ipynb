{
 "cells": [
  {
   "cell_type": "code",
   "execution_count": 1,
   "metadata": {},
   "outputs": [],
   "source": [
    "import numpy as np\n",
    "import matplotlib.pyplot as plt\n",
    "import os\n",
    "import warnings\n",
    "cwd = os.getcwd()\n",
    "import seaborn as sns\n",
    "sns.set()\n",
    "sns.set_palette(\"Blues_r\")\n",
    "sns.set_style(\"white\")\n",
    "from matplotlib import rcParams\n",
    "rcParams['font.family'] = 'sans-serif'\n",
    "rcParams['font.sans-serif'] = ['Arial']"
   ]
  },
  {
   "cell_type": "code",
   "execution_count": 90,
   "metadata": {},
   "outputs": [],
   "source": [
    "dt = 0.0625\n",
    "t = 1.\n",
    "U = 4.\n",
    "mu = 0.\n",
    "totalMCSweeps = 10192\n",
    "freq = 4\n",
    "intsize = 40\n",
    "geom = 3\n",
    "ny = 0\n",
    "\n",
    "measNames  = np.array(['Electron density <n>', 'Double occupancy <n+ n->'\\\n",
    ", 'ZZ AF Structure Factor', 'Sq.Magnetization <m^2>', 'Hkin', 'Hint', 'E', 'Average sign <s>'])\n",
    "\n",
    "betas = np.array([1., 2., 3., 4., 5., 6., 8., 10., 12., 16., 20.])\n",
    "\n",
    "sizes = np.array([36])\n",
    "\n",
    "Structs = np.zeros((len(betas), len(sizes)))\n",
    "\n",
    "for idB, beta in enumerate(betas):\n",
    "    L = int(beta / dt)\n",
    "    intsize = int(L / freq)\n",
    "    for idN, NSITES in enumerate(sizes):\n",
    "        mainDir = ('../data/' + str(NSITES) + \\\n",
    "                     'sites_L=' + str(L) + \\\n",
    "                     '_beta=' + str(beta) + \\\n",
    "                     '_dt_' + str(dt) + '_t_' + \\\n",
    "                     str(t) + '_U_'+ str(U) + '_mu_' + str(mu))\n",
    "\n",
    "        simDir = (mainDir + '/data-to-reproduce/' + \\\n",
    "                      'totalMCSweeps_' + str(totalMCSweeps) + \\\n",
    "                      '_freq_' + str(freq) + '_intsize_' + str(intsize) + \\\n",
    "                      '_geom_' + str(geom) + '_ny_' + str(ny) )\n",
    "\n",
    "        Structs[idB, idN] = np.loadtxt(simDir + '/MeasurementsScalars.csv', delimiter=',', usecols = 1)[4]"
   ]
  },
  {
   "cell_type": "code",
   "execution_count": 50,
   "metadata": {},
   "outputs": [
    {
     "data": {
      "text/plain": [
       "array([[ 1.0789861,  1.069115 ,  1.0876482],\n",
       "       [ 1.522926 ,  1.5911919,  1.6252684],\n",
       "       [ 2.1466134,  2.184261 ,  2.1860365],\n",
       "       [ 3.2617102,  5.074639 ,  7.0852698],\n",
       "       [ 3.1720114,  5.6418418,  8.8738633],\n",
       "       [ 3.6464491,  6.039452 ,  8.2805914],\n",
       "       [ 3.609447 ,  5.689638 ,  7.8370971],\n",
       "       [ 3.8016375,  5.9304148,  7.5155064]])"
      ]
     },
     "execution_count": 50,
     "metadata": {},
     "output_type": "execute_result"
    }
   ],
   "source": [
    "Structs"
   ]
  },
  {
   "cell_type": "code",
   "execution_count": 57,
   "metadata": {},
   "outputs": [
    {
     "data": {
      "text/plain": [
       "(0, 23)"
      ]
     },
     "execution_count": 57,
     "metadata": {},
     "output_type": "execute_result"
    },
    {
     "data": {
      "image/png": "[encoded data removed]",
      "text/plain": [
       "<matplotlib.figure.Figure at 0x114185b38>"
      ]
     },
     "metadata": {},
     "output_type": "display_data"
    }
   ],
   "source": [
    "\n",
    "plt.figure(1, figsize=(6,5))\n",
    "for bt in range(len(sizes)):\n",
    "    plt.plot(betas, Structs[:,bt], marker = 'o', markersize = 4, linewidth = 0)\n",
    "\n",
    "plt.ylim(0, 15)\n",
    "plt.xlim(0, 23)"
   ]
  },
  {
   "cell_type": "code",
   "execution_count": null,
   "metadata": {},
   "outputs": [],
   "source": []
  }
 ],
 "metadata": {
  "kernelspec": {
   "display_name": "Python 3",
   "language": "python",
   "name": "python3"
  },
  "language_info": {
   "codemirror_mode": {
    "name": "ipython",
    "version": 3
   },
   "file_extension": ".py",
   "mimetype": "text/x-python",
   "name": "python",
   "nbconvert_exporter": "python",
   "pygments_lexer": "ipython3",
   "version": "3.6.4"
  }
 },
 "nbformat": 4,
 "nbformat_minor": 2
}
