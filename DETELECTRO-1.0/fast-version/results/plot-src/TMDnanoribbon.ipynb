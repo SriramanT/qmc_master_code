{
 "cells": [
  {
   "cell_type": "markdown",
   "metadata": {},
   "source": [
    "# Determinant QMC data visualization"
   ]
  },
  {
   "cell_type": "markdown",
   "metadata": {},
   "source": [
    "## Are you testing or making plots?"
   ]
  },
  {
   "cell_type": "code",
   "execution_count": 2,
   "metadata": {},
   "outputs": [],
   "source": [
    "SAVEPLOTS = True"
   ]
  },
  {
   "cell_type": "markdown",
   "metadata": {},
   "source": [
    "## Load simulation data"
   ]
  },
  {
   "cell_type": "code",
   "execution_count": 3,
   "metadata": {},
   "outputs": [],
   "source": [
    "import numpy as np\n",
    "import matplotlib.pyplot as plt\n",
    "import os\n",
    "import warnings\n",
    "cwd = os.getcwd()\n",
    "import seaborn as sns\n",
    "sns.set()\n",
    "sns.set_palette(\"Blues_r\")\n",
    "sns.set_style(\"white\")\n",
    "from matplotlib import rcParams\n",
    "rcParams['font.family'] = 'sans-serif'\n",
    "rcParams['font.sans-serif'] = ['Arial']\n",
    "\n",
    "NSITES = 384\n",
    "dt = 0.0625\n",
    "beta = 4.\n",
    "L = 64\n",
    "t = 1.\n",
    "U = 8.\n",
    "mu = 3.5\n",
    "totalMCSweeps = 512\n",
    "freq = 4\n",
    "intsize = 16\n",
    "geom = 15\n",
    "ny = 8\n",
    "\n",
    "mainDir = ('../data/' + str(NSITES) + \\\n",
    "             'sites_L=' + str(L) + \\\n",
    "             '_beta=' + str(beta) + \\\n",
    "             '_dt_' + str(dt) + '_t_' + \\\n",
    "             str(t) + '_U_'+ str(U) + '_mu_' + str(mu))\n",
    "\n",
    "simDir = (mainDir + '/data-to-reproduce/' + \\\n",
    "              'totalMCSweeps_' + str(totalMCSweeps) + \\\n",
    "              '_freq_' + str(freq) + '_intsize_' + str(intsize) + \\\n",
    "              '_geom_' + str(geom) + '_ny_' + str(ny) )\n",
    "\n",
    "plotDir = (mainDir + '/plots/' + \\\n",
    "              'totalMCSweeps_' + str(totalMCSweeps) + \\\n",
    "              '_freq_' + str(freq) + '_intsize_' + str(intsize) + \\\n",
    "              '_geom_' + str(geom) + '_ny_' + str(ny) )\n",
    "\n",
    "# Load weights to plot\n",
    "\n",
    "weights = np.loadtxt(simDir + '/Log-weights.csv')\n",
    "\n",
    "WL = weights.size\n",
    "\n",
    "latSweeps = np.arange(WL) + 1"
   ]
  },
  {
   "cell_type": "markdown",
   "metadata": {},
   "source": [
    "# Metropolis Sampling convergence"
   ]
  },
  {
   "cell_type": "code",
   "execution_count": 4,
   "metadata": {},
   "outputs": [
    {
     "data": {
      "image/png": "[encoded data removed]",
      "text/plain": [
       "<matplotlib.figure.Figure at 0x1066ccba8>"
      ]
     },
     "metadata": {},
     "output_type": "display_data"
    }
   ],
   "source": [
    "plt.scatter(latSweeps / L, weights, s = 0.3) #show time in space-time sweeps\n",
    "plt.xlabel(r\"Space-time sweep\")\n",
    "plt.ylabel(r'$\\log \\frac{| P(\\mathbf{h}) | }{ | P(\\mathbf{h_0}) | } $')\n",
    "if SAVEPLOTS == True:\n",
    "    plt.savefig(plotDir + '/Log-weights.png', dpi = 600)"
   ]
  },
  {
   "cell_type": "markdown",
   "metadata": {},
   "source": [
    "# Spin correlations"
   ]
  },
  {
   "cell_type": "code",
   "execution_count": 23,
   "metadata": {},
   "outputs": [
    {
     "data": {
      "image/png": "[encoded data removed]",
      "text/plain": [
       "<matplotlib.figure.Figure at 0x11a922860>"
      ]
     },
     "metadata": {},
     "output_type": "display_data"
    }
   ],
   "source": [
    "SiaSjb = np.loadtxt(simDir + '/EqTimeSzCorrelations.csv')\n",
    "mSq = np.diag(SiaSjb)\n",
    "nOrb = 3\n",
    "nx = int(NSITES / nOrb / ny)\n",
    "\n",
    "mSqdz2 = np.zeros(ny)\n",
    "mSqdxy = np.zeros(ny)\n",
    "mSqdx2y2 = np.zeros(ny)\n",
    "\n",
    "j = 0\n",
    "\n",
    "for i in range(int(NSITES / nOrb)):\n",
    "    mSqdz2[j] += mSq[3 * i]\n",
    "    mSqdxy[j] += mSq[3 * i + 1]\n",
    "    mSqdx2y2[j] += mSq[3 * i + 2]\n",
    "    if (j+1) % nx == 0:\n",
    "        j += 1\n",
    "\n",
    "plt.plot(mSqdxy/(nx**2), label = r'$d_{xy}$', linewidth = 0.5)\n",
    "plt.plot(mSqdz2/(nx**2), label = r'$d_{z^2}$', linewidth = 0.5)\n",
    "plt.plot(mSqdx2y2/(nx**2), label = r'$d_{x^2-y^2}$', linewidth = 0.5)\n",
    "plt.legend()\n",
    "plt.xlabel(r'$y$')\n",
    "plt.ylabel(r'$\\left\\langle m_y^2 \\right\\rangle$')\n",
    "plt.savefig(\"Preliminary.png\", dpi = 600)"
   ]
  }
 ],
 "metadata": {
  "kernelspec": {
   "display_name": "Python 3",
   "language": "python",
   "name": "python3"
  },
  "language_info": {
   "codemirror_mode": {
    "name": "ipython",
    "version": 3
   },
   "file_extension": ".py",
   "mimetype": "text/x-python",
   "name": "python",
   "nbconvert_exporter": "python",
   "pygments_lexer": "ipython3",
   "version": "3.6.4"
  }
 },
 "nbformat": 4,
 "nbformat_minor": 2
}
