{
 "cells": [
  {
   "cell_type": "code",
   "execution_count": 1,
   "metadata": {},
   "outputs": [],
   "source": [
    "import numpy as np\n",
    "import matplotlib.pyplot as plt\n",
    "import os\n",
    "import warnings\n",
    "cwd = os.getcwd()\n",
    "import seaborn as sns\n",
    "sns.set()\n",
    "sns.set_palette(\"Blues_r\")\n",
    "sns.set_style(\"white\")\n",
    "from matplotlib import rcParams\n",
    "rcParams['font.family'] = 'sans-serif'\n",
    "rcParams['font.sans-serif'] = ['Arial']"
   ]
  },
  {
   "cell_type": "code",
   "execution_count": 2,
   "metadata": {},
   "outputs": [],
   "source": [
    "NSITES = 16\n",
    "beta = 16.\n",
    "L = 256\n",
    "dt = 0.0625\n",
    "t = 1.\n",
    "mu = 0.\n",
    "totalMCSweeps = 5096\n",
    "freq = 4\n",
    "intsize = 64\n",
    "geom = 3\n",
    "ny = 0"
   ]
  },
  {
   "cell_type": "code",
   "execution_count": 3,
   "metadata": {},
   "outputs": [],
   "source": [
    "UsWhite = np.array([1., 2., 3., 4., 6., 8., 12., 16., 20.])\n",
    "Us = np.array([1., 1.5, 2., 3., 4., 5., 6., 7., 8., 10., 12., 16., 20.])\n",
    "nUp_nDw = np.zeros(len(Us))\n",
    "\n",
    "for idU, U in enumerate(Us):\n",
    "    mainDir = ('../data/' + str(NSITES) + \\\n",
    "                     'sites_L=' + str(L) + \\\n",
    "                     '_beta=' + str(beta) + \\\n",
    "                     '_dt_' + str(dt) + '_t_' + \\\n",
    "                     str(t) + '_U_'+ str(U) + '_mu_' + str(mu))\n",
    "\n",
    "    simDir = (mainDir + '/data-to-reproduce/' + \\\n",
    "                  'totalMCSweeps_' + str(totalMCSweeps) + \\\n",
    "                  '_freq_' + str(freq) + '_intsize_' + str(intsize) + \\\n",
    "                  '_geom_' + str(geom) + '_ny_' + str(ny) )\n",
    "    \n",
    "    nUp_nDw[idU] = np.genfromtxt(simDir + '/MeasurementsScalars.csv', delimiter='  ')[1, 1]\n"
   ]
  },
  {
   "cell_type": "code",
   "execution_count": 4,
   "metadata": {},
   "outputs": [
    {
     "data": {
      "image/png": "[encoded data removed]",
      "text/plain": [
       "<matplotlib.figure.Figure at 0x1130f7f28>"
      ]
     },
     "metadata": {},
     "output_type": "display_data"
    }
   ],
   "source": [
    "compareWhite1989 = np.loadtxt(\"nUpnDw.csv\", delimiter=',')\n",
    "\n",
    "compareWhite1989[:, 0] = UsWhite\n",
    "\n",
    "plt.plot(Us, nUp_nDw, marker = 'o', markersize = 4, linewidth = 0.5, label = 'This work')\n",
    "plt.plot(compareWhite1989[:, 0], compareWhite1989[:, 1], markersize = 0.3,\\\n",
    "         marker = 'x', color = 'r', markeredgewidth = 10, linewidth = 0, label = 'White (1989)')\n",
    "plt.xlabel(r'$U$')\n",
    "plt.ylabel(r'$\\left\\langle n_\\uparrow n_\\downarrow \\right\\rangle$')\n",
    "plt.title('PBC Square Lattice ' + r'$4 \\times 4, \\beta = 16, \\left\\langle n \\right\\rangle = 1$')\n",
    "plt.legend()\n",
    "plt.savefig(\"nUpnDwSquare.png\", dpi = 600)"
   ]
  }
 ],
 "metadata": {
  "kernelspec": {
   "display_name": "Python 3",
   "language": "python",
   "name": "python3"
  },
  "language_info": {
   "codemirror_mode": {
    "name": "ipython",
    "version": 3
   },
   "file_extension": ".py",
   "mimetype": "text/x-python",
   "name": "python",
   "nbconvert_exporter": "python",
   "pygments_lexer": "ipython3",
   "version": "3.6.4"
  }
 },
 "nbformat": 4,
 "nbformat_minor": 2
}
