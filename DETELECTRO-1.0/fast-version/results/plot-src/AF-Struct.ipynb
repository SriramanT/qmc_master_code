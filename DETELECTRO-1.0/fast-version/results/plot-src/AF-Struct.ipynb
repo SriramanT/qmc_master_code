{
 "cells": [
  {
   "cell_type": "code",
   "execution_count": 1,
   "metadata": {},
   "outputs": [],
   "source": [
    "import numpy as np\n",
    "import matplotlib.pyplot as plt\n",
    "import os\n",
    "import warnings\n",
    "cwd = os.getcwd()\n",
    "import seaborn as sns\n",
    "sns.set()\n",
    "sns.set_palette(\"Blues_r\")\n",
    "sns.set_style(\"white\")\n",
    "from matplotlib import rcParams\n",
    "rcParams['font.family'] = 'sans-serif'\n",
    "rcParams['font.sans-serif'] = ['Arial']"
   ]
  },
  {
   "cell_type": "code",
   "execution_count": 3,
   "metadata": {},
   "outputs": [],
   "source": [
    "dt = 0.0625\n",
    "t = 1.\n",
    "U = 4.\n",
    "mu = 0.\n",
    "totalMCSweeps = 5096\n",
    "freq = 4\n",
    "intsize = 40\n",
    "geom = 3\n",
    "ny = 0\n",
    "\n",
    "measNames  = np.array(['Electron density <n>', 'Double occupancy <n+ n->'\\\n",
    ", 'ZZ AF Structure Factor', 'Sq.Magnetization <m^2>', 'Hkin', 'Hint', 'E', 'Average sign <s>'])\n",
    "\n",
    "Structs = np.zeros((2, 4))\n",
    "\n",
    "betas = np.array([10.])\n",
    "\n",
    "sizes = np.array([16, 36, 64])\n",
    "\n",
    "for idB, beta in enumerate(betas):\n",
    "    L = int(beta / dt)\n",
    "    intsize = int(L / freq)\n",
    "    for idN, NSITES in enumerate(sizes):\n",
    "        mainDir = ('../data/' + str(NSITES) + \\\n",
    "                     'sites_L=' + str(L) + \\\n",
    "                     '_beta=' + str(beta) + \\\n",
    "                     '_dt_' + str(dt) + '_t_' + \\\n",
    "                     str(t) + '_U_'+ str(U) + '_mu_' + str(mu))\n",
    "\n",
    "        simDir = (mainDir + '/data-to-reproduce/' + \\\n",
    "                      'totalMCSweeps_' + str(totalMCSweeps) + \\\n",
    "                      '_freq_' + str(freq) + '_intsize_' + str(intsize) + \\\n",
    "                      '_geom_' + str(geom) + '_ny_' + str(ny) )\n",
    "\n",
    "        Structs[idB, idN] = np.genfromtxt(simDir + '/MeasurementsScalars.csv', delimiter='  ')[2, 1]"
   ]
  },
  {
   "cell_type": "code",
   "execution_count": 4,
   "metadata": {},
   "outputs": [
    {
     "data": {
      "text/plain": [
       "array([[ 3.8515425,  6.3845273,  8.8035655,  0.       ],\n",
       "       [ 0.       ,  0.       ,  0.       ,  0.       ]])"
      ]
     },
     "execution_count": 4,
     "metadata": {},
     "output_type": "execute_result"
    }
   ],
   "source": [
    "Structs"
   ]
  },
  {
   "cell_type": "code",
   "execution_count": null,
   "metadata": {},
   "outputs": [],
   "source": []
  }
 ],
 "metadata": {
  "kernelspec": {
   "display_name": "Python 3",
   "language": "python",
   "name": "python3"
  },
  "language_info": {
   "codemirror_mode": {
    "name": "ipython",
    "version": 3
   },
   "file_extension": ".py",
   "mimetype": "text/x-python",
   "name": "python",
   "nbconvert_exporter": "python",
   "pygments_lexer": "ipython3",
   "version": "3.6.4"
  }
 },
 "nbformat": 4,
 "nbformat_minor": 2
}
